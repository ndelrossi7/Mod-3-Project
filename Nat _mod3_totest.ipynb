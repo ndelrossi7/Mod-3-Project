{
 "cells": [
  {
   "cell_type": "markdown",
   "metadata": {},
   "source": [
    "# Mod 3 Project: Movie Database Analysis\n",
    "\n",
    "## The data\n",
    "The data we are using has come from The Movie Database (https://www.themoviedb.org/) and includes information on budget and user ratings.\n",
    "\n",
    "### Hypotheses:\n",
    "\n",
    "1. H0: There is no correlation between user rating and budget for top rated movies made in 2018.\n",
    "\n",
    "   H1: There is a correlation between user rating and budget for top rated movies made in 2018.\n",
    "   \n",
    "\n",
    "2. H0: There is no significant difference in user rating depending on the genre for top rated movies in 2018.\n",
    "\n",
    "   H1: There is a significant difference in user rating depending on the genre for top rated movies in 2018.\n",
    "\n",
    "\n",
    "3. H0: There is no significant difference in user rating between an original movie and its most recent remake.\n",
    "\n",
    "   H1: There is a significant difference in user rating between an original movie and its most recent remake."
   ]
  },
  {
   "cell_type": "markdown",
   "metadata": {},
   "source": [
    "## Import necessary packages\n"
   ]
  },
  {
   "cell_type": "code",
   "execution_count": 554,
   "metadata": {},
   "outputs": [],
   "source": [
    "from api import API\n",
    "import requests\n",
    "import time\n",
    "from itertools import chain\n",
    "import pandas as pd\n",
    "import numpy as np\n",
    "import sqlite3\n",
    "import scipy.stats as stats\n",
    "import matplotlib.pyplot as plt\n",
    "import seaborn as sns\n",
    "from statsmodels.stats.power import TTestIndPower, TTestPower\n",
    "import statsmodels.api as sm\n",
    "from statsmodels.formula.api import ols\n",
    "from statsmodels.stats.multicomp import pairwise_tukeyhsd\n",
    "from matplotlib import rcParams as params"
   ]
  },
  {
   "cell_type": "markdown",
   "metadata": {},
   "source": [
    "## API Calling \n",
    "\n",
    "To start, we are going to gather information about the top rated movies by users on The Movie Database. We have found that there are 792 pages, so we will iterate our API call through all of these pages. \n",
    "\n",
    "The call limit is 40 per minute, so we have used a sleep function to rest 2 seconds between each call. \n",
    "\n",
    "We are then appending all of these page calls to a list for easier access to our data."
   ]
  },
  {
   "cell_type": "code",
   "execution_count": 157,
   "metadata": {},
   "outputs": [],
   "source": [
    "pages = list(range(1, 793))\n",
    "all_2018 = []\n",
    "for page in pages:\n",
    "    response = requests.get('https://api.themoviedb.org/3/discover/movie?api_key={}&language=en-US&sort_by=vote_average.desc&include_adult=false&include_video=false&page={}&primary_release_year=2018'.format(API, page))\n",
    "    time.sleep(2)\n",
    "    if response.status_code == 200:\n",
    "        all_2018.append(response.json()['results'])\n",
    "    else: \n",
    "        print('unauthorized')"
   ]
  },
  {
   "cell_type": "markdown",
   "metadata": {},
   "source": [
    "In order to better visualize our data for cleaning, we will unlist our data and put it into a pandas dataframe.\n",
    "\n",
    "We will then do some cleaning to have a better and more clear idea of our data."
   ]
  },
  {
   "cell_type": "code",
   "execution_count": 160,
   "metadata": {},
   "outputs": [],
   "source": [
    "all_2018_unlist = list(chain.from_iterable(all_2018))"
   ]
  },
  {
   "cell_type": "code",
   "execution_count": 165,
   "metadata": {
    "scrolled": true
   },
   "outputs": [
    {
     "name": "stdout",
     "output_type": "stream",
     "text": [
      "15840\n",
      "Index(['adult', 'backdrop_path', 'genre_ids', 'id', 'original_language',\n",
      "       'original_title', 'overview', 'popularity', 'poster_path',\n",
      "       'release_date', 'title', 'video', 'vote_average', 'vote_count'],\n",
      "      dtype='object')\n"
     ]
    },
    {
     "data": {
      "text/html": [
       "<div>\n",
       "<style scoped>\n",
       "    .dataframe tbody tr th:only-of-type {\n",
       "        vertical-align: middle;\n",
       "    }\n",
       "\n",
       "    .dataframe tbody tr th {\n",
       "        vertical-align: top;\n",
       "    }\n",
       "\n",
       "    .dataframe thead th {\n",
       "        text-align: right;\n",
       "    }\n",
       "</style>\n",
       "<table border=\"1\" class=\"dataframe\">\n",
       "  <thead>\n",
       "    <tr style=\"text-align: right;\">\n",
       "      <th></th>\n",
       "      <th>adult</th>\n",
       "      <th>backdrop_path</th>\n",
       "      <th>genre_ids</th>\n",
       "      <th>id</th>\n",
       "      <th>original_language</th>\n",
       "      <th>original_title</th>\n",
       "      <th>overview</th>\n",
       "      <th>popularity</th>\n",
       "      <th>poster_path</th>\n",
       "      <th>release_date</th>\n",
       "      <th>title</th>\n",
       "      <th>video</th>\n",
       "      <th>vote_average</th>\n",
       "      <th>vote_count</th>\n",
       "    </tr>\n",
       "  </thead>\n",
       "  <tbody>\n",
       "    <tr>\n",
       "      <th>0</th>\n",
       "      <td>False</td>\n",
       "      <td>/5sTXzeEmRbZ66HJ3lj9uO5USgr7.jpg</td>\n",
       "      <td>[80, 53]</td>\n",
       "      <td>413881</td>\n",
       "      <td>en</td>\n",
       "      <td>According to Matthew</td>\n",
       "      <td>A highly respected priest conspires with his m...</td>\n",
       "      <td>3.372</td>\n",
       "      <td>/yw1qLqwXQORZqNO5aRLZywYSPBr.jpg</td>\n",
       "      <td>2018-11-24</td>\n",
       "      <td>According to Matthew</td>\n",
       "      <td>False</td>\n",
       "      <td>10.0</td>\n",
       "      <td>5</td>\n",
       "    </tr>\n",
       "    <tr>\n",
       "      <th>1</th>\n",
       "      <td>False</td>\n",
       "      <td>None</td>\n",
       "      <td>[10402, 99]</td>\n",
       "      <td>571679</td>\n",
       "      <td>en</td>\n",
       "      <td>Now United: Dreams Come True</td>\n",
       "      <td>See how the group came to be and what it took ...</td>\n",
       "      <td>0.600</td>\n",
       "      <td>/hINGeQe5psODwFzkHIOg0HqmYZa.jpg</td>\n",
       "      <td>2018-12-29</td>\n",
       "      <td>Now United: Dreams Come True</td>\n",
       "      <td>False</td>\n",
       "      <td>10.0</td>\n",
       "      <td>3</td>\n",
       "    </tr>\n",
       "    <tr>\n",
       "      <th>2</th>\n",
       "      <td>False</td>\n",
       "      <td>/gUg3rm2kbnMj2fA7yPQGJ4rap6P.jpg</td>\n",
       "      <td>[16, 12]</td>\n",
       "      <td>561974</td>\n",
       "      <td>ko</td>\n",
       "      <td>점박이 한반도의 공룡 2: 새로운 낙원</td>\n",
       "      <td>Speckles, a ferocious tarbosaurus and his youn...</td>\n",
       "      <td>5.845</td>\n",
       "      <td>/ybHM7tXJ96sXf86wAq5orGz1xET.jpg</td>\n",
       "      <td>2018-12-25</td>\n",
       "      <td>Dino King 3D: Journey to Fire Mountain</td>\n",
       "      <td>False</td>\n",
       "      <td>10.0</td>\n",
       "      <td>3</td>\n",
       "    </tr>\n",
       "    <tr>\n",
       "      <th>3</th>\n",
       "      <td>False</td>\n",
       "      <td>/7LD18Y2V7FtPSryQoio6jOKPPEy.jpg</td>\n",
       "      <td>[18, 10402]</td>\n",
       "      <td>515264</td>\n",
       "      <td>en</td>\n",
       "      <td>Hall American: Forbidden</td>\n",
       "      <td></td>\n",
       "      <td>0.749</td>\n",
       "      <td>/1K1477QWuZ86q8urc9IjJr4T7vo.jpg</td>\n",
       "      <td>2018-03-15</td>\n",
       "      <td>Hall American: Forbidden</td>\n",
       "      <td>False</td>\n",
       "      <td>10.0</td>\n",
       "      <td>3</td>\n",
       "    </tr>\n",
       "    <tr>\n",
       "      <th>4</th>\n",
       "      <td>False</td>\n",
       "      <td>None</td>\n",
       "      <td>[]</td>\n",
       "      <td>496332</td>\n",
       "      <td>hi</td>\n",
       "      <td>KHATA-Kaash Humse Na Hoti</td>\n",
       "      <td>An upcoming crime movie starring Shahid Kapoor.</td>\n",
       "      <td>0.853</td>\n",
       "      <td>/hElu4XTHxbGT2JKMZtrUbvDCpAy.jpg</td>\n",
       "      <td>2018-08-14</td>\n",
       "      <td>KHATA-Kaash Humse Na Hoti</td>\n",
       "      <td>False</td>\n",
       "      <td>10.0</td>\n",
       "      <td>3</td>\n",
       "    </tr>\n",
       "  </tbody>\n",
       "</table>\n",
       "</div>"
      ],
      "text/plain": [
       "   adult                     backdrop_path    genre_ids      id  \\\n",
       "0  False  /5sTXzeEmRbZ66HJ3lj9uO5USgr7.jpg     [80, 53]  413881   \n",
       "1  False                              None  [10402, 99]  571679   \n",
       "2  False  /gUg3rm2kbnMj2fA7yPQGJ4rap6P.jpg     [16, 12]  561974   \n",
       "3  False  /7LD18Y2V7FtPSryQoio6jOKPPEy.jpg  [18, 10402]  515264   \n",
       "4  False                              None           []  496332   \n",
       "\n",
       "  original_language                original_title  \\\n",
       "0                en          According to Matthew   \n",
       "1                en  Now United: Dreams Come True   \n",
       "2                ko         점박이 한반도의 공룡 2: 새로운 낙원   \n",
       "3                en      Hall American: Forbidden   \n",
       "4                hi     KHATA-Kaash Humse Na Hoti   \n",
       "\n",
       "                                            overview  popularity  \\\n",
       "0  A highly respected priest conspires with his m...       3.372   \n",
       "1  See how the group came to be and what it took ...       0.600   \n",
       "2  Speckles, a ferocious tarbosaurus and his youn...       5.845   \n",
       "3                                                          0.749   \n",
       "4    An upcoming crime movie starring Shahid Kapoor.       0.853   \n",
       "\n",
       "                        poster_path release_date  \\\n",
       "0  /yw1qLqwXQORZqNO5aRLZywYSPBr.jpg   2018-11-24   \n",
       "1  /hINGeQe5psODwFzkHIOg0HqmYZa.jpg   2018-12-29   \n",
       "2  /ybHM7tXJ96sXf86wAq5orGz1xET.jpg   2018-12-25   \n",
       "3  /1K1477QWuZ86q8urc9IjJr4T7vo.jpg   2018-03-15   \n",
       "4  /hElu4XTHxbGT2JKMZtrUbvDCpAy.jpg   2018-08-14   \n",
       "\n",
       "                                    title  video  vote_average  vote_count  \n",
       "0                    According to Matthew  False          10.0           5  \n",
       "1            Now United: Dreams Come True  False          10.0           3  \n",
       "2  Dino King 3D: Journey to Fire Mountain  False          10.0           3  \n",
       "3                Hall American: Forbidden  False          10.0           3  \n",
       "4               KHATA-Kaash Humse Na Hoti  False          10.0           3  "
      ]
     },
     "execution_count": 165,
     "metadata": {},
     "output_type": "execute_result"
    }
   ],
   "source": [
    "df_2018 = pd.DataFrame.from_records(all_2018_unlist)\n",
    "print(len(df_2018)) #Print how many rows\n",
    "print(df_2018.columns) #Print column names\n",
    "df_2018.head()"
   ]
  },
  {
   "cell_type": "code",
   "execution_count": 193,
   "metadata": {},
   "outputs": [],
   "source": [
    "df = df_2018[['id', 'title', 'genre_ids', 'vote_average', 'vote_count', 'popularity']]"
   ]
  },
  {
   "cell_type": "code",
   "execution_count": 537,
   "metadata": {},
   "outputs": [],
   "source": [
    "df.vote_count.replace(0, np.NaN, inplace = True)"
   ]
  },
  {
   "cell_type": "code",
   "execution_count": 201,
   "metadata": {},
   "outputs": [],
   "source": [
    "df = df[df['vote_count'] >= 50]"
   ]
  },
  {
   "cell_type": "markdown",
   "metadata": {},
   "source": [
    "After looking at our data we noticed that there was a good deal of movies that had very few reviews with a high rating. We decided to make our cutoff number of votes 50 to have a better idea of what users enjoyed.\n",
    "\n",
    "It is important to note that our highest rated movie after increasing the vote count threshold to 50 was only 8.4."
   ]
  },
  {
   "cell_type": "code",
   "execution_count": 228,
   "metadata": {},
   "outputs": [],
   "source": [
    "mov_ids = list(df.id)"
   ]
  },
  {
   "cell_type": "code",
   "execution_count": 522,
   "metadata": {},
   "outputs": [],
   "source": [
    "# mov_ids"
   ]
  },
  {
   "cell_type": "markdown",
   "metadata": {},
   "source": [
    "Now we can use our movie IDs to pass in to our API call to retrieve budget details about these movies."
   ]
  },
  {
   "cell_type": "code",
   "execution_count": 254,
   "metadata": {},
   "outputs": [],
   "source": [
    "mov_ids = list(df.id)\n",
    "ids = []\n",
    "budget = []\n",
    "for mov_id in mov_ids:\n",
    "    response = requests.get('https://api.themoviedb.org/3/movie/{}?api_key={}&language=en-US'.format(mov_id, API))\n",
    "    time.sleep(2)\n",
    "    if response.status_code == 200:\n",
    "        ids.append(response.json()['id'])\n",
    "        budget.append(response.json()['budget'])\n",
    "    else: \n",
    "        print('unauthorized')"
   ]
  },
  {
   "cell_type": "code",
   "execution_count": 332,
   "metadata": {},
   "outputs": [],
   "source": [
    "budget_data = dict(zip(ids, budget))"
   ]
  },
  {
   "cell_type": "code",
   "execution_count": 333,
   "metadata": {},
   "outputs": [],
   "source": [
    "df1 = pd.DataFrame.from_dict(budget_data, orient = 'index')"
   ]
  },
  {
   "cell_type": "code",
   "execution_count": 352,
   "metadata": {},
   "outputs": [],
   "source": [
    "df1.columns = ['id','budget']"
   ]
  },
  {
   "cell_type": "code",
   "execution_count": 335,
   "metadata": {},
   "outputs": [],
   "source": [
    "df1 = df1[df1.budget != 0]"
   ]
  },
  {
   "cell_type": "code",
   "execution_count": 336,
   "metadata": {},
   "outputs": [],
   "source": [
    "df1 = df1.reset_index()"
   ]
  },
  {
   "cell_type": "markdown",
   "metadata": {},
   "source": [
    "## Storing Budget Data in SQL\n",
    "\n",
    "Now, let's create and connect to our database so we can store our data into SQL."
   ]
  },
  {
   "cell_type": "code",
   "execution_count": 354,
   "metadata": {},
   "outputs": [],
   "source": [
    "import sqlite3\n",
    "conn = sqlite3.connect('tmdb.db')\n",
    "c = conn.cursor()"
   ]
  },
  {
   "cell_type": "code",
   "execution_count": 440,
   "metadata": {
    "scrolled": true
   },
   "outputs": [
    {
     "data": {
      "text/plain": [
       "<sqlite3.Cursor at 0x11c0f40a0>"
      ]
     },
     "execution_count": 440,
     "metadata": {},
     "output_type": "execute_result"
    }
   ],
   "source": [
    "c.execute('''CREATE TABLE IF NOT EXISTS budgets\n",
    "                 ([index] INTEGER PRIMARY KEY,\n",
    "                 [id] integer,\n",
    "                 [budget] integer)''')"
   ]
  },
  {
   "cell_type": "code",
   "execution_count": 441,
   "metadata": {},
   "outputs": [],
   "source": [
    "for i in range(0, len(df1)):\n",
    "    try:\n",
    "        c.execute('''INSERT INTO budgets \n",
    "            (id, budget)\n",
    "            VALUES(?,?)''', \n",
    "            (int(df1['id'][i]),\n",
    "            df1['budget'][i]))\n",
    "        conn.commit()\n",
    "    except:\n",
    "        print(df1['id'][i], df1['budget'][i])\n",
    "        "
   ]
  },
  {
   "cell_type": "code",
   "execution_count": 375,
   "metadata": {},
   "outputs": [],
   "source": [
    "df.drop(['genre_ids'], axis = 1, inplace = True)"
   ]
  },
  {
   "cell_type": "code",
   "execution_count": 431,
   "metadata": {},
   "outputs": [
    {
     "data": {
      "text/plain": [
       "<sqlite3.Cursor at 0x11c0f40a0>"
      ]
     },
     "execution_count": 431,
     "metadata": {},
     "output_type": "execute_result"
    }
   ],
   "source": [
    "c.execute('''CREATE TABLE IF NOT EXISTS top_rated\n",
    "                 ([index] INTEGER PRIMARY KEY,\n",
    "                 [id] integer,\n",
    "                 [title] text,\n",
    "                 [vote_average] integer, \n",
    "                 [vote_count] integer, \n",
    "                 [popularity] integer\n",
    "                 )''')"
   ]
  },
  {
   "cell_type": "code",
   "execution_count": 432,
   "metadata": {},
   "outputs": [],
   "source": [
    "for i in range(0, len(df)):\n",
    "    try:\n",
    "        c.execute('''INSERT INTO top_rated \n",
    "            (id, title, vote_average, vote_count, popularity)\n",
    "            VALUES(?,?,?,?,?)''', \n",
    "            (int(df['id'][i]),\n",
    "            df['title'][i], \n",
    "            df['vote_average'][i],\n",
    "            df['vote_count'][i],\n",
    "            df['popularity'][i]))\n",
    "        conn.commit()\n",
    "    except:\n",
    "        print(df['id'][i], df['title'][i], df['vote_average'][i], df['vote_count'][i], df['popularity'][i])"
   ]
  },
  {
   "cell_type": "markdown",
   "metadata": {},
   "source": [
    "## Reading from SQL\n",
    "\n",
    "Now we can import our stored data and turn them into pandas dataframes to run some stats more easily"
   ]
  },
  {
   "cell_type": "code",
   "execution_count": 45,
   "metadata": {},
   "outputs": [],
   "source": [
    "import sqlite3\n",
    "conn = sqlite3.connect('tmdb.db')\n",
    "c = conn.cursor()"
   ]
  },
  {
   "cell_type": "code",
   "execution_count": 124,
   "metadata": {},
   "outputs": [],
   "source": [
    "budgets_df = pd.read_sql('SELECT * FROM budgets', conn)"
   ]
  },
  {
   "cell_type": "code",
   "execution_count": 125,
   "metadata": {},
   "outputs": [],
   "source": [
    "budgets_df['budget_c'] = budgets_df.budget.transform(lambda x: int.from_bytes(x, 'little'))"
   ]
  },
  {
   "cell_type": "code",
   "execution_count": 126,
   "metadata": {},
   "outputs": [],
   "source": [
    "budgets_df.drop(['budget'], axis = 1, inplace = True)"
   ]
  },
  {
   "cell_type": "code",
   "execution_count": 99,
   "metadata": {
    "scrolled": true
   },
   "outputs": [],
   "source": [
    "# budgets_df"
   ]
  },
  {
   "cell_type": "code",
   "execution_count": 127,
   "metadata": {},
   "outputs": [],
   "source": [
    "top_rated_df = pd.read_sql('SELECT * FROM top_rated', conn)"
   ]
  },
  {
   "cell_type": "code",
   "execution_count": 128,
   "metadata": {
    "scrolled": true
   },
   "outputs": [
    {
     "data": {
      "text/html": [
       "<div>\n",
       "<style scoped>\n",
       "    .dataframe tbody tr th:only-of-type {\n",
       "        vertical-align: middle;\n",
       "    }\n",
       "\n",
       "    .dataframe tbody tr th {\n",
       "        vertical-align: top;\n",
       "    }\n",
       "\n",
       "    .dataframe thead th {\n",
       "        text-align: right;\n",
       "    }\n",
       "</style>\n",
       "<table border=\"1\" class=\"dataframe\">\n",
       "  <thead>\n",
       "    <tr style=\"text-align: right;\">\n",
       "      <th></th>\n",
       "      <th>index</th>\n",
       "      <th>id</th>\n",
       "      <th>title</th>\n",
       "      <th>vote_average</th>\n",
       "      <th>vote_count</th>\n",
       "      <th>popularity</th>\n",
       "    </tr>\n",
       "  </thead>\n",
       "  <tbody>\n",
       "    <tr>\n",
       "      <th>0</th>\n",
       "      <td>1</td>\n",
       "      <td>324857</td>\n",
       "      <td>Spider-Man: Into the Spider-Verse</td>\n",
       "      <td>8.4</td>\n",
       "      <td>4368</td>\n",
       "      <td>53.442</td>\n",
       "    </tr>\n",
       "    <tr>\n",
       "      <th>1</th>\n",
       "      <td>2</td>\n",
       "      <td>517814</td>\n",
       "      <td>Capernaum</td>\n",
       "      <td>8.4</td>\n",
       "      <td>361</td>\n",
       "      <td>14.307</td>\n",
       "    </tr>\n",
       "    <tr>\n",
       "      <th>2</th>\n",
       "      <td>3</td>\n",
       "      <td>489471</td>\n",
       "      <td>The Dawn Wall</td>\n",
       "      <td>8.4</td>\n",
       "      <td>73</td>\n",
       "      <td>7.006</td>\n",
       "    </tr>\n",
       "    <tr>\n",
       "      <th>3</th>\n",
       "      <td>4</td>\n",
       "      <td>529531</td>\n",
       "      <td>Hannah Gadsby: Nanette</td>\n",
       "      <td>8.4</td>\n",
       "      <td>115</td>\n",
       "      <td>6.086</td>\n",
       "    </tr>\n",
       "    <tr>\n",
       "      <th>4</th>\n",
       "      <td>5</td>\n",
       "      <td>423612</td>\n",
       "      <td>Never Look Away</td>\n",
       "      <td>8.4</td>\n",
       "      <td>90</td>\n",
       "      <td>12.388</td>\n",
       "    </tr>\n",
       "    <tr>\n",
       "      <th>5</th>\n",
       "      <td>6</td>\n",
       "      <td>490003</td>\n",
       "      <td>Won't You Be My Neighbor?</td>\n",
       "      <td>8.4</td>\n",
       "      <td>209</td>\n",
       "      <td>9.686</td>\n",
       "    </tr>\n",
       "    <tr>\n",
       "      <th>6</th>\n",
       "      <td>7</td>\n",
       "      <td>490132</td>\n",
       "      <td>Green Book</td>\n",
       "      <td>8.3</td>\n",
       "      <td>3733</td>\n",
       "      <td>32.594</td>\n",
       "    </tr>\n",
       "    <tr>\n",
       "      <th>7</th>\n",
       "      <td>8</td>\n",
       "      <td>299536</td>\n",
       "      <td>Avengers: Infinity War</td>\n",
       "      <td>8.3</td>\n",
       "      <td>14323</td>\n",
       "      <td>92.710</td>\n",
       "    </tr>\n",
       "    <tr>\n",
       "      <th>8</th>\n",
       "      <td>9</td>\n",
       "      <td>538362</td>\n",
       "      <td>On My Skin</td>\n",
       "      <td>8.2</td>\n",
       "      <td>1091</td>\n",
       "      <td>10.110</td>\n",
       "    </tr>\n",
       "    <tr>\n",
       "      <th>9</th>\n",
       "      <td>10</td>\n",
       "      <td>504253</td>\n",
       "      <td>I Want to Eat Your Pancreas</td>\n",
       "      <td>8.2</td>\n",
       "      <td>80</td>\n",
       "      <td>5.280</td>\n",
       "    </tr>\n",
       "    <tr>\n",
       "      <th>10</th>\n",
       "      <td>11</td>\n",
       "      <td>505262</td>\n",
       "      <td>My Hero Academia the movie: Two Heroes</td>\n",
       "      <td>8.2</td>\n",
       "      <td>152</td>\n",
       "      <td>11.369</td>\n",
       "    </tr>\n",
       "    <tr>\n",
       "      <th>11</th>\n",
       "      <td>12</td>\n",
       "      <td>470044</td>\n",
       "      <td>The Hate U Give</td>\n",
       "      <td>8.2</td>\n",
       "      <td>683</td>\n",
       "      <td>19.457</td>\n",
       "    </tr>\n",
       "    <tr>\n",
       "      <th>12</th>\n",
       "      <td>13</td>\n",
       "      <td>520594</td>\n",
       "      <td>John Mulaney: Kid Gorgeous at Radio City</td>\n",
       "      <td>8.2</td>\n",
       "      <td>81</td>\n",
       "      <td>4.488</td>\n",
       "    </tr>\n",
       "    <tr>\n",
       "      <th>13</th>\n",
       "      <td>14</td>\n",
       "      <td>449176</td>\n",
       "      <td>Love, Simon</td>\n",
       "      <td>8.2</td>\n",
       "      <td>3263</td>\n",
       "      <td>16.138</td>\n",
       "    </tr>\n",
       "    <tr>\n",
       "      <th>14</th>\n",
       "      <td>15</td>\n",
       "      <td>524288</td>\n",
       "      <td>Period. End of Sentence.</td>\n",
       "      <td>8.1</td>\n",
       "      <td>121</td>\n",
       "      <td>6.030</td>\n",
       "    </tr>\n",
       "    <tr>\n",
       "      <th>15</th>\n",
       "      <td>16</td>\n",
       "      <td>564427</td>\n",
       "      <td>Minha Vida em Marte</td>\n",
       "      <td>8.1</td>\n",
       "      <td>165</td>\n",
       "      <td>5.534</td>\n",
       "    </tr>\n",
       "    <tr>\n",
       "      <th>16</th>\n",
       "      <td>17</td>\n",
       "      <td>498249</td>\n",
       "      <td>Bad Seeds</td>\n",
       "      <td>8.1</td>\n",
       "      <td>241</td>\n",
       "      <td>7.945</td>\n",
       "    </tr>\n",
       "    <tr>\n",
       "      <th>17</th>\n",
       "      <td>18</td>\n",
       "      <td>568332</td>\n",
       "      <td>Taylor Swift: Reputation Stadium Tour</td>\n",
       "      <td>8.1</td>\n",
       "      <td>124</td>\n",
       "      <td>6.904</td>\n",
       "    </tr>\n",
       "    <tr>\n",
       "      <th>18</th>\n",
       "      <td>19</td>\n",
       "      <td>543580</td>\n",
       "      <td>They Shall Not Grow Old</td>\n",
       "      <td>8.1</td>\n",
       "      <td>133</td>\n",
       "      <td>11.223</td>\n",
       "    </tr>\n",
       "    <tr>\n",
       "      <th>19</th>\n",
       "      <td>20</td>\n",
       "      <td>424694</td>\n",
       "      <td>Bohemian Rhapsody</td>\n",
       "      <td>8.1</td>\n",
       "      <td>7930</td>\n",
       "      <td>39.675</td>\n",
       "    </tr>\n",
       "    <tr>\n",
       "      <th>20</th>\n",
       "      <td>21</td>\n",
       "      <td>493100</td>\n",
       "      <td>Robin Williams: Come Inside My Mind</td>\n",
       "      <td>8.0</td>\n",
       "      <td>61</td>\n",
       "      <td>6.113</td>\n",
       "    </tr>\n",
       "    <tr>\n",
       "      <th>21</th>\n",
       "      <td>22</td>\n",
       "      <td>515042</td>\n",
       "      <td>Free Solo</td>\n",
       "      <td>8.0</td>\n",
       "      <td>382</td>\n",
       "      <td>9.662</td>\n",
       "    </tr>\n",
       "    <tr>\n",
       "      <th>22</th>\n",
       "      <td>23</td>\n",
       "      <td>514575</td>\n",
       "      <td>A Twelve-Year Night</td>\n",
       "      <td>8.0</td>\n",
       "      <td>80</td>\n",
       "      <td>6.785</td>\n",
       "    </tr>\n",
       "    <tr>\n",
       "      <th>23</th>\n",
       "      <td>24</td>\n",
       "      <td>508933</td>\n",
       "      <td>Ricky Gervais: Humanity</td>\n",
       "      <td>8.0</td>\n",
       "      <td>133</td>\n",
       "      <td>6.795</td>\n",
       "    </tr>\n",
       "    <tr>\n",
       "      <th>24</th>\n",
       "      <td>25</td>\n",
       "      <td>505192</td>\n",
       "      <td>Shoplifters</td>\n",
       "      <td>8.0</td>\n",
       "      <td>519</td>\n",
       "      <td>12.089</td>\n",
       "    </tr>\n",
       "    <tr>\n",
       "      <th>25</th>\n",
       "      <td>26</td>\n",
       "      <td>547691</td>\n",
       "      <td>Jacqueline Sauvage - C'était lui ou moi</td>\n",
       "      <td>8.0</td>\n",
       "      <td>74</td>\n",
       "      <td>4.001</td>\n",
       "    </tr>\n",
       "    <tr>\n",
       "      <th>26</th>\n",
       "      <td>27</td>\n",
       "      <td>549484</td>\n",
       "      <td>One Small Step</td>\n",
       "      <td>8.0</td>\n",
       "      <td>56</td>\n",
       "      <td>4.215</td>\n",
       "    </tr>\n",
       "    <tr>\n",
       "      <th>27</th>\n",
       "      <td>28</td>\n",
       "      <td>438146</td>\n",
       "      <td>Birds of Passage</td>\n",
       "      <td>7.9</td>\n",
       "      <td>59</td>\n",
       "      <td>6.161</td>\n",
       "    </tr>\n",
       "    <tr>\n",
       "      <th>28</th>\n",
       "      <td>29</td>\n",
       "      <td>466282</td>\n",
       "      <td>To All the Boys I've Loved Before</td>\n",
       "      <td>7.9</td>\n",
       "      <td>4616</td>\n",
       "      <td>37.577</td>\n",
       "    </tr>\n",
       "    <tr>\n",
       "      <th>29</th>\n",
       "      <td>30</td>\n",
       "      <td>504969</td>\n",
       "      <td>Fauve</td>\n",
       "      <td>7.9</td>\n",
       "      <td>57</td>\n",
       "      <td>5.373</td>\n",
       "    </tr>\n",
       "    <tr>\n",
       "      <th>...</th>\n",
       "      <td>...</td>\n",
       "      <td>...</td>\n",
       "      <td>...</td>\n",
       "      <td>...</td>\n",
       "      <td>...</td>\n",
       "      <td>...</td>\n",
       "    </tr>\n",
       "    <tr>\n",
       "      <th>573</th>\n",
       "      <td>574</td>\n",
       "      <td>499722</td>\n",
       "      <td>The Other Woman</td>\n",
       "      <td>4.8</td>\n",
       "      <td>65</td>\n",
       "      <td>5.804</td>\n",
       "    </tr>\n",
       "    <tr>\n",
       "      <th>574</th>\n",
       "      <td>575</td>\n",
       "      <td>454615</td>\n",
       "      <td>Black Water</td>\n",
       "      <td>4.8</td>\n",
       "      <td>75</td>\n",
       "      <td>10.915</td>\n",
       "    </tr>\n",
       "    <tr>\n",
       "      <th>575</th>\n",
       "      <td>576</td>\n",
       "      <td>295011</td>\n",
       "      <td>Patient Zero</td>\n",
       "      <td>4.8</td>\n",
       "      <td>164</td>\n",
       "      <td>7.946</td>\n",
       "    </tr>\n",
       "    <tr>\n",
       "      <th>576</th>\n",
       "      <td>577</td>\n",
       "      <td>495673</td>\n",
       "      <td>Belleville Cop</td>\n",
       "      <td>4.7</td>\n",
       "      <td>105</td>\n",
       "      <td>7.073</td>\n",
       "    </tr>\n",
       "    <tr>\n",
       "      <th>577</th>\n",
       "      <td>578</td>\n",
       "      <td>440471</td>\n",
       "      <td>Escape Plan 2: Hades</td>\n",
       "      <td>4.7</td>\n",
       "      <td>535</td>\n",
       "      <td>17.769</td>\n",
       "    </tr>\n",
       "    <tr>\n",
       "      <th>578</th>\n",
       "      <td>579</td>\n",
       "      <td>457915</td>\n",
       "      <td>Superlopez</td>\n",
       "      <td>4.7</td>\n",
       "      <td>74</td>\n",
       "      <td>6.235</td>\n",
       "    </tr>\n",
       "    <tr>\n",
       "      <th>579</th>\n",
       "      <td>580</td>\n",
       "      <td>444149</td>\n",
       "      <td>Hellraiser: Judgment</td>\n",
       "      <td>4.6</td>\n",
       "      <td>72</td>\n",
       "      <td>7.075</td>\n",
       "    </tr>\n",
       "    <tr>\n",
       "      <th>580</th>\n",
       "      <td>581</td>\n",
       "      <td>511449</td>\n",
       "      <td>Family Blood</td>\n",
       "      <td>4.6</td>\n",
       "      <td>71</td>\n",
       "      <td>6.128</td>\n",
       "    </tr>\n",
       "    <tr>\n",
       "      <th>581</th>\n",
       "      <td>582</td>\n",
       "      <td>437375</td>\n",
       "      <td>Looking Glass</td>\n",
       "      <td>4.5</td>\n",
       "      <td>95</td>\n",
       "      <td>9.542</td>\n",
       "    </tr>\n",
       "    <tr>\n",
       "      <th>582</th>\n",
       "      <td>583</td>\n",
       "      <td>492336</td>\n",
       "      <td>Deep Blue Sea 2</td>\n",
       "      <td>4.5</td>\n",
       "      <td>199</td>\n",
       "      <td>10.307</td>\n",
       "    </tr>\n",
       "    <tr>\n",
       "      <th>583</th>\n",
       "      <td>584</td>\n",
       "      <td>462979</td>\n",
       "      <td>Brillantissime</td>\n",
       "      <td>4.5</td>\n",
       "      <td>63</td>\n",
       "      <td>4.714</td>\n",
       "    </tr>\n",
       "    <tr>\n",
       "      <th>584</th>\n",
       "      <td>585</td>\n",
       "      <td>340674</td>\n",
       "      <td>Dark Crimes</td>\n",
       "      <td>4.5</td>\n",
       "      <td>148</td>\n",
       "      <td>8.523</td>\n",
       "    </tr>\n",
       "    <tr>\n",
       "      <th>585</th>\n",
       "      <td>586</td>\n",
       "      <td>523873</td>\n",
       "      <td>Kung Fu League</td>\n",
       "      <td>4.5</td>\n",
       "      <td>58</td>\n",
       "      <td>11.044</td>\n",
       "    </tr>\n",
       "    <tr>\n",
       "      <th>586</th>\n",
       "      <td>587</td>\n",
       "      <td>431135</td>\n",
       "      <td>Eva</td>\n",
       "      <td>4.5</td>\n",
       "      <td>56</td>\n",
       "      <td>5.489</td>\n",
       "    </tr>\n",
       "    <tr>\n",
       "      <th>587</th>\n",
       "      <td>588</td>\n",
       "      <td>455605</td>\n",
       "      <td>Heilstätten</td>\n",
       "      <td>4.4</td>\n",
       "      <td>60</td>\n",
       "      <td>6.442</td>\n",
       "    </tr>\n",
       "    <tr>\n",
       "      <th>588</th>\n",
       "      <td>589</td>\n",
       "      <td>437316</td>\n",
       "      <td>Spirou &amp; Fantasio's Big Adventures</td>\n",
       "      <td>4.3</td>\n",
       "      <td>59</td>\n",
       "      <td>5.736</td>\n",
       "    </tr>\n",
       "    <tr>\n",
       "      <th>589</th>\n",
       "      <td>590</td>\n",
       "      <td>490214</td>\n",
       "      <td>Iceman: The Time Traveler</td>\n",
       "      <td>4.3</td>\n",
       "      <td>50</td>\n",
       "      <td>5.439</td>\n",
       "    </tr>\n",
       "    <tr>\n",
       "      <th>590</th>\n",
       "      <td>591</td>\n",
       "      <td>438689</td>\n",
       "      <td>Siberia</td>\n",
       "      <td>4.2</td>\n",
       "      <td>160</td>\n",
       "      <td>10.265</td>\n",
       "    </tr>\n",
       "    <tr>\n",
       "      <th>591</th>\n",
       "      <td>592</td>\n",
       "      <td>503346</td>\n",
       "      <td>Occupation</td>\n",
       "      <td>4.2</td>\n",
       "      <td>67</td>\n",
       "      <td>6.996</td>\n",
       "    </tr>\n",
       "    <tr>\n",
       "      <th>592</th>\n",
       "      <td>593</td>\n",
       "      <td>426563</td>\n",
       "      <td>Holmes &amp; Watson</td>\n",
       "      <td>4.2</td>\n",
       "      <td>241</td>\n",
       "      <td>13.181</td>\n",
       "    </tr>\n",
       "    <tr>\n",
       "      <th>593</th>\n",
       "      <td>594</td>\n",
       "      <td>411135</td>\n",
       "      <td>Future World</td>\n",
       "      <td>4.2</td>\n",
       "      <td>100</td>\n",
       "      <td>10.323</td>\n",
       "    </tr>\n",
       "    <tr>\n",
       "      <th>594</th>\n",
       "      <td>595</td>\n",
       "      <td>353576</td>\n",
       "      <td>The Con Is On</td>\n",
       "      <td>4.1</td>\n",
       "      <td>59</td>\n",
       "      <td>14.232</td>\n",
       "    </tr>\n",
       "    <tr>\n",
       "      <th>595</th>\n",
       "      <td>596</td>\n",
       "      <td>563766</td>\n",
       "      <td>5 Star Christmas</td>\n",
       "      <td>4.1</td>\n",
       "      <td>105</td>\n",
       "      <td>4.846</td>\n",
       "    </tr>\n",
       "    <tr>\n",
       "      <th>596</th>\n",
       "      <td>597</td>\n",
       "      <td>485415</td>\n",
       "      <td>Day of the Dead: Bloodline</td>\n",
       "      <td>4.1</td>\n",
       "      <td>241</td>\n",
       "      <td>9.989</td>\n",
       "    </tr>\n",
       "    <tr>\n",
       "      <th>597</th>\n",
       "      <td>598</td>\n",
       "      <td>525102</td>\n",
       "      <td>Girl Lost</td>\n",
       "      <td>4.1</td>\n",
       "      <td>54</td>\n",
       "      <td>5.203</td>\n",
       "    </tr>\n",
       "    <tr>\n",
       "      <th>598</th>\n",
       "      <td>599</td>\n",
       "      <td>439015</td>\n",
       "      <td>Slender Man</td>\n",
       "      <td>4.0</td>\n",
       "      <td>753</td>\n",
       "      <td>12.352</td>\n",
       "    </tr>\n",
       "    <tr>\n",
       "      <th>599</th>\n",
       "      <td>600</td>\n",
       "      <td>345934</td>\n",
       "      <td>Air Strike</td>\n",
       "      <td>3.9</td>\n",
       "      <td>57</td>\n",
       "      <td>9.747</td>\n",
       "    </tr>\n",
       "    <tr>\n",
       "      <th>600</th>\n",
       "      <td>601</td>\n",
       "      <td>485774</td>\n",
       "      <td>The Open House</td>\n",
       "      <td>3.7</td>\n",
       "      <td>803</td>\n",
       "      <td>7.851</td>\n",
       "    </tr>\n",
       "    <tr>\n",
       "      <th>601</th>\n",
       "      <td>602</td>\n",
       "      <td>523849</td>\n",
       "      <td>The Last Sharknado: It's About Time</td>\n",
       "      <td>3.5</td>\n",
       "      <td>54</td>\n",
       "      <td>7.569</td>\n",
       "    </tr>\n",
       "    <tr>\n",
       "      <th>602</th>\n",
       "      <td>603</td>\n",
       "      <td>535488</td>\n",
       "      <td>Romina</td>\n",
       "      <td>2.3</td>\n",
       "      <td>81</td>\n",
       "      <td>6.732</td>\n",
       "    </tr>\n",
       "  </tbody>\n",
       "</table>\n",
       "<p>603 rows × 6 columns</p>\n",
       "</div>"
      ],
      "text/plain": [
       "     index      id                                     title  vote_average  \\\n",
       "0        1  324857         Spider-Man: Into the Spider-Verse           8.4   \n",
       "1        2  517814                                 Capernaum           8.4   \n",
       "2        3  489471                             The Dawn Wall           8.4   \n",
       "3        4  529531                    Hannah Gadsby: Nanette           8.4   \n",
       "4        5  423612                           Never Look Away           8.4   \n",
       "5        6  490003                 Won't You Be My Neighbor?           8.4   \n",
       "6        7  490132                                Green Book           8.3   \n",
       "7        8  299536                    Avengers: Infinity War           8.3   \n",
       "8        9  538362                                On My Skin           8.2   \n",
       "9       10  504253               I Want to Eat Your Pancreas           8.2   \n",
       "10      11  505262    My Hero Academia the movie: Two Heroes           8.2   \n",
       "11      12  470044                           The Hate U Give           8.2   \n",
       "12      13  520594  John Mulaney: Kid Gorgeous at Radio City           8.2   \n",
       "13      14  449176                               Love, Simon           8.2   \n",
       "14      15  524288                  Period. End of Sentence.           8.1   \n",
       "15      16  564427                       Minha Vida em Marte           8.1   \n",
       "16      17  498249                                 Bad Seeds           8.1   \n",
       "17      18  568332     Taylor Swift: Reputation Stadium Tour           8.1   \n",
       "18      19  543580                   They Shall Not Grow Old           8.1   \n",
       "19      20  424694                         Bohemian Rhapsody           8.1   \n",
       "20      21  493100       Robin Williams: Come Inside My Mind           8.0   \n",
       "21      22  515042                                 Free Solo           8.0   \n",
       "22      23  514575                       A Twelve-Year Night           8.0   \n",
       "23      24  508933                   Ricky Gervais: Humanity           8.0   \n",
       "24      25  505192                               Shoplifters           8.0   \n",
       "25      26  547691   Jacqueline Sauvage - C'était lui ou moi           8.0   \n",
       "26      27  549484                            One Small Step           8.0   \n",
       "27      28  438146                          Birds of Passage           7.9   \n",
       "28      29  466282         To All the Boys I've Loved Before           7.9   \n",
       "29      30  504969                                     Fauve           7.9   \n",
       "..     ...     ...                                       ...           ...   \n",
       "573    574  499722                           The Other Woman           4.8   \n",
       "574    575  454615                               Black Water           4.8   \n",
       "575    576  295011                              Patient Zero           4.8   \n",
       "576    577  495673                            Belleville Cop           4.7   \n",
       "577    578  440471                      Escape Plan 2: Hades           4.7   \n",
       "578    579  457915                                Superlopez           4.7   \n",
       "579    580  444149                      Hellraiser: Judgment           4.6   \n",
       "580    581  511449                              Family Blood           4.6   \n",
       "581    582  437375                             Looking Glass           4.5   \n",
       "582    583  492336                           Deep Blue Sea 2           4.5   \n",
       "583    584  462979                            Brillantissime           4.5   \n",
       "584    585  340674                               Dark Crimes           4.5   \n",
       "585    586  523873                            Kung Fu League           4.5   \n",
       "586    587  431135                                       Eva           4.5   \n",
       "587    588  455605                               Heilstätten           4.4   \n",
       "588    589  437316        Spirou & Fantasio's Big Adventures           4.3   \n",
       "589    590  490214                 Iceman: The Time Traveler           4.3   \n",
       "590    591  438689                                   Siberia           4.2   \n",
       "591    592  503346                                Occupation           4.2   \n",
       "592    593  426563                           Holmes & Watson           4.2   \n",
       "593    594  411135                              Future World           4.2   \n",
       "594    595  353576                             The Con Is On           4.1   \n",
       "595    596  563766                          5 Star Christmas           4.1   \n",
       "596    597  485415                Day of the Dead: Bloodline           4.1   \n",
       "597    598  525102                                 Girl Lost           4.1   \n",
       "598    599  439015                               Slender Man           4.0   \n",
       "599    600  345934                                Air Strike           3.9   \n",
       "600    601  485774                            The Open House           3.7   \n",
       "601    602  523849       The Last Sharknado: It's About Time           3.5   \n",
       "602    603  535488                                    Romina           2.3   \n",
       "\n",
       "     vote_count  popularity  \n",
       "0          4368      53.442  \n",
       "1           361      14.307  \n",
       "2            73       7.006  \n",
       "3           115       6.086  \n",
       "4            90      12.388  \n",
       "5           209       9.686  \n",
       "6          3733      32.594  \n",
       "7         14323      92.710  \n",
       "8          1091      10.110  \n",
       "9            80       5.280  \n",
       "10          152      11.369  \n",
       "11          683      19.457  \n",
       "12           81       4.488  \n",
       "13         3263      16.138  \n",
       "14          121       6.030  \n",
       "15          165       5.534  \n",
       "16          241       7.945  \n",
       "17          124       6.904  \n",
       "18          133      11.223  \n",
       "19         7930      39.675  \n",
       "20           61       6.113  \n",
       "21          382       9.662  \n",
       "22           80       6.785  \n",
       "23          133       6.795  \n",
       "24          519      12.089  \n",
       "25           74       4.001  \n",
       "26           56       4.215  \n",
       "27           59       6.161  \n",
       "28         4616      37.577  \n",
       "29           57       5.373  \n",
       "..          ...         ...  \n",
       "573          65       5.804  \n",
       "574          75      10.915  \n",
       "575         164       7.946  \n",
       "576         105       7.073  \n",
       "577         535      17.769  \n",
       "578          74       6.235  \n",
       "579          72       7.075  \n",
       "580          71       6.128  \n",
       "581          95       9.542  \n",
       "582         199      10.307  \n",
       "583          63       4.714  \n",
       "584         148       8.523  \n",
       "585          58      11.044  \n",
       "586          56       5.489  \n",
       "587          60       6.442  \n",
       "588          59       5.736  \n",
       "589          50       5.439  \n",
       "590         160      10.265  \n",
       "591          67       6.996  \n",
       "592         241      13.181  \n",
       "593         100      10.323  \n",
       "594          59      14.232  \n",
       "595         105       4.846  \n",
       "596         241       9.989  \n",
       "597          54       5.203  \n",
       "598         753      12.352  \n",
       "599          57       9.747  \n",
       "600         803       7.851  \n",
       "601          54       7.569  \n",
       "602          81       6.732  \n",
       "\n",
       "[603 rows x 6 columns]"
      ]
     },
     "execution_count": 128,
     "metadata": {},
     "output_type": "execute_result"
    }
   ],
   "source": [
    "top_rated_df"
   ]
  },
  {
   "cell_type": "markdown",
   "metadata": {},
   "source": [
    "We can now merge our budgets information and movie details for analysis"
   ]
  },
  {
   "cell_type": "code",
   "execution_count": 129,
   "metadata": {},
   "outputs": [],
   "source": [
    "df_merged = pd.merge(top_rated_df, budgets_df, on = 'id')"
   ]
  },
  {
   "cell_type": "markdown",
   "metadata": {},
   "source": [
    "## More API Calls and SQL!\n",
    "\n",
    "Now we want to get genre and remake information for our other analyses"
   ]
  },
  {
   "cell_type": "code",
   "execution_count": 150,
   "metadata": {},
   "outputs": [],
   "source": [
    "url = 'https://api.themoviedb.org/3/genre/movie/list?api_key={}&language=en-US'.format(API)\n",
    "response = requests.get(url)\n",
    "genres = response.json()['genres']\n",
    "genres_df = pd.DataFrame.from_records(genres)"
   ]
  },
  {
   "cell_type": "code",
   "execution_count": 159,
   "metadata": {},
   "outputs": [
    {
     "data": {
      "text/plain": [
       "<sqlite3.Cursor at 0x10dc0e6c0>"
      ]
     },
     "execution_count": 159,
     "metadata": {},
     "output_type": "execute_result"
    }
   ],
   "source": [
    "c.execute(\"\"\"CREATE TABLE IF NOT EXISTS genres\n",
    "            ([index] INTEGER PRIMARY KEY,\n",
    "            [id] integer,\n",
    "            [genre] text)\"\"\")"
   ]
  },
  {
   "cell_type": "code",
   "execution_count": 163,
   "metadata": {},
   "outputs": [],
   "source": [
    "for i in range(0, len(genres_df)):\n",
    "    try:\n",
    "        c.execute('''INSERT INTO genres \n",
    "            (id, genre)\n",
    "            VALUES(?,?)''', \n",
    "            (int(genres_df['id'][i]),\n",
    "            genres_df['name'][i]))\n",
    "        conn.commit()\n",
    "    except:\n",
    "        print(genres_df['id'][i], genres_df['name'][i])"
   ]
  },
  {
   "cell_type": "markdown",
   "metadata": {},
   "source": [
    "Here we are calling to store the genres associated with each top movie"
   ]
  },
  {
   "cell_type": "code",
   "execution_count": 180,
   "metadata": {},
   "outputs": [],
   "source": [
    "updated_pages = list(range(1, 795))\n",
    "extra_info = []\n",
    "for page in updated_pages:\n",
    "    response = requests.get('https://api.themoviedb.org/3/discover/movie?api_key={}&language=en-US&sort_by=vote_average.desc&include_adult=false&include_video=false&page={}&primary_release_year=2018'.format(API, page))\n",
    "    time.sleep(3)\n",
    "    if response.status_code == 200:\n",
    "        extra_info.append(response.json()['results'])\n",
    "    else: \n",
    "        print('unauthorized')"
   ]
  },
  {
   "cell_type": "markdown",
   "metadata": {},
   "source": [
    "We have set the same vote count parameters so that we end up with the same movies and applied some simple cleaning."
   ]
  },
  {
   "cell_type": "code",
   "execution_count": 231,
   "metadata": {},
   "outputs": [],
   "source": [
    "forgenre_unlist = list(chain.from_iterable(extra_info))\n",
    "df_genre = pd.DataFrame.from_records(forgenre_unlist)\n",
    "df_genre.vote_count.replace(0, np.NaN, inplace = True)\n",
    "df_genre = df_genre[df_genre['vote_count'] >= 50]\n",
    "df_genre = df_genre[['id', 'genre_ids', 'title']]\n",
    "df_genre.reset_index(inplace = True)\n",
    "df_genre.drop(['index'], axis = 1, inplace = True)"
   ]
  },
  {
   "cell_type": "code",
   "execution_count": 236,
   "metadata": {},
   "outputs": [],
   "source": [
    "df_genre = df_genre[df_genre.genre_ids.map(lambda x: len(x) > 0)]"
   ]
  },
  {
   "cell_type": "markdown",
   "metadata": {},
   "source": [
    "There are many movies that have an elaborate collection of genres - we have chosen the first listed genre as it is likely the broader theme of the movie."
   ]
  },
  {
   "cell_type": "code",
   "execution_count": 527,
   "metadata": {},
   "outputs": [],
   "source": [
    "df_genre['theme'] = df_genre.genre_ids.apply(lambda x: x[0])"
   ]
  },
  {
   "cell_type": "code",
   "execution_count": 528,
   "metadata": {
    "scrolled": true
   },
   "outputs": [],
   "source": [
    "df_genre.drop('genre_ids', axis = 1, inplace = True)"
   ]
  },
  {
   "cell_type": "code",
   "execution_count": 529,
   "metadata": {
    "scrolled": false
   },
   "outputs": [],
   "source": [
    "df_genre.theme = df_genre.theme.apply(lambda x: int(x))"
   ]
  },
  {
   "cell_type": "code",
   "execution_count": 288,
   "metadata": {},
   "outputs": [],
   "source": [
    "df_genre.reset_index(inplace = True)"
   ]
  },
  {
   "cell_type": "code",
   "execution_count": 530,
   "metadata": {},
   "outputs": [],
   "source": [
    "df_genre.drop(['level_0', 'index'], axis = 1, inplace = True)"
   ]
  },
  {
   "cell_type": "markdown",
   "metadata": {},
   "source": [
    "Here we are creating and storing our genre info SQL table"
   ]
  },
  {
   "cell_type": "code",
   "execution_count": 293,
   "metadata": {},
   "outputs": [
    {
     "data": {
      "text/plain": [
       "<sqlite3.Cursor at 0x10dc0e6c0>"
      ]
     },
     "execution_count": 293,
     "metadata": {},
     "output_type": "execute_result"
    }
   ],
   "source": [
    "c.execute(\"\"\"CREATE TABLE IF NOT EXISTS genre_info\n",
    "            ([index] INTEGER PRIMARY KEY,\n",
    "            [id] integer,\n",
    "            [genre_id] integer)\"\"\")"
   ]
  },
  {
   "cell_type": "code",
   "execution_count": 294,
   "metadata": {
    "scrolled": true
   },
   "outputs": [],
   "source": [
    "for i in range(0, len(df_genre)):\n",
    "    try:\n",
    "        c.execute('''INSERT INTO genre_info \n",
    "            (id, genre_id)\n",
    "            VALUES(?,?)''', \n",
    "            (int(df_genre['id'][i]),\n",
    "            int(df_genre['theme'][i])))\n",
    "        conn.commit()\n",
    "    except:\n",
    "        print(df_genre['id'][i], df_genre['theme'][i])"
   ]
  },
  {
   "cell_type": "code",
   "execution_count": 541,
   "metadata": {},
   "outputs": [],
   "source": [
    "genres = pd.read_sql('SELECT * FROM genres', conn)"
   ]
  },
  {
   "cell_type": "code",
   "execution_count": 542,
   "metadata": {},
   "outputs": [],
   "source": [
    "genre_info = pd.read_sql('SELECT * FROM genre_info', conn)"
   ]
  },
  {
   "cell_type": "code",
   "execution_count": 543,
   "metadata": {},
   "outputs": [],
   "source": [
    "genre_info.drop(['index'], axis = 1, inplace = True)"
   ]
  },
  {
   "cell_type": "markdown",
   "metadata": {},
   "source": [
    "I'm cleaning and merging our information on genres so as to more easily access our data. I have set the count per genre as greater than 10 so that we can have an adequate number of samples for each genre. "
   ]
  },
  {
   "cell_type": "code",
   "execution_count": 544,
   "metadata": {},
   "outputs": [],
   "source": [
    "genre_merged = pd.merge(top_rated_df, genre_info, on = 'id')"
   ]
  },
  {
   "cell_type": "code",
   "execution_count": 546,
   "metadata": {},
   "outputs": [],
   "source": [
    "genre_merged = pd.merge(genres, genre_merged, left_on = 'id', right_on = 'genre_id')"
   ]
  },
  {
   "cell_type": "code",
   "execution_count": 550,
   "metadata": {},
   "outputs": [],
   "source": [
    "genre_merged = genre_merged.groupby('genre_id').filter(lambda x : len(x)>= 10)"
   ]
  },
  {
   "cell_type": "code",
   "execution_count": 552,
   "metadata": {},
   "outputs": [
    {
     "data": {
      "text/html": [
       "<div>\n",
       "<style scoped>\n",
       "    .dataframe tbody tr th:only-of-type {\n",
       "        vertical-align: middle;\n",
       "    }\n",
       "\n",
       "    .dataframe tbody tr th {\n",
       "        vertical-align: top;\n",
       "    }\n",
       "\n",
       "    .dataframe thead th {\n",
       "        text-align: right;\n",
       "    }\n",
       "</style>\n",
       "<table border=\"1\" class=\"dataframe\">\n",
       "  <thead>\n",
       "    <tr style=\"text-align: right;\">\n",
       "      <th></th>\n",
       "      <th>index_x</th>\n",
       "      <th>id_x</th>\n",
       "      <th>genre</th>\n",
       "      <th>index_y</th>\n",
       "      <th>id_y</th>\n",
       "      <th>title</th>\n",
       "      <th>vote_average</th>\n",
       "      <th>vote_count</th>\n",
       "      <th>popularity</th>\n",
       "      <th>genre_id</th>\n",
       "    </tr>\n",
       "  </thead>\n",
       "  <tbody>\n",
       "    <tr>\n",
       "      <th>0</th>\n",
       "      <td>1</td>\n",
       "      <td>28</td>\n",
       "      <td>Action</td>\n",
       "      <td>1</td>\n",
       "      <td>324857</td>\n",
       "      <td>Spider-Man: Into the Spider-Verse</td>\n",
       "      <td>8.4</td>\n",
       "      <td>4368</td>\n",
       "      <td>53.442</td>\n",
       "      <td>28</td>\n",
       "    </tr>\n",
       "    <tr>\n",
       "      <th>1</th>\n",
       "      <td>1</td>\n",
       "      <td>28</td>\n",
       "      <td>Action</td>\n",
       "      <td>64</td>\n",
       "      <td>260513</td>\n",
       "      <td>Incredibles 2</td>\n",
       "      <td>7.6</td>\n",
       "      <td>6538</td>\n",
       "      <td>36.410</td>\n",
       "      <td>28</td>\n",
       "    </tr>\n",
       "    <tr>\n",
       "      <th>2</th>\n",
       "      <td>1</td>\n",
       "      <td>28</td>\n",
       "      <td>Action</td>\n",
       "      <td>67</td>\n",
       "      <td>383498</td>\n",
       "      <td>Deadpool 2</td>\n",
       "      <td>7.5</td>\n",
       "      <td>8980</td>\n",
       "      <td>43.571</td>\n",
       "      <td>28</td>\n",
       "    </tr>\n",
       "    <tr>\n",
       "      <th>3</th>\n",
       "      <td>1</td>\n",
       "      <td>28</td>\n",
       "      <td>Action</td>\n",
       "      <td>72</td>\n",
       "      <td>503314</td>\n",
       "      <td>Dragon Ball Super: Broly</td>\n",
       "      <td>7.4</td>\n",
       "      <td>761</td>\n",
       "      <td>4.467</td>\n",
       "      <td>28</td>\n",
       "    </tr>\n",
       "    <tr>\n",
       "      <th>4</th>\n",
       "      <td>1</td>\n",
       "      <td>28</td>\n",
       "      <td>Action</td>\n",
       "      <td>82</td>\n",
       "      <td>284054</td>\n",
       "      <td>Black Panther</td>\n",
       "      <td>7.4</td>\n",
       "      <td>12640</td>\n",
       "      <td>49.144</td>\n",
       "      <td>28</td>\n",
       "    </tr>\n",
       "  </tbody>\n",
       "</table>\n",
       "</div>"
      ],
      "text/plain": [
       "   index_x  id_x   genre  index_y    id_y                              title  \\\n",
       "0        1    28  Action        1  324857  Spider-Man: Into the Spider-Verse   \n",
       "1        1    28  Action       64  260513                      Incredibles 2   \n",
       "2        1    28  Action       67  383498                         Deadpool 2   \n",
       "3        1    28  Action       72  503314           Dragon Ball Super: Broly   \n",
       "4        1    28  Action       82  284054                      Black Panther   \n",
       "\n",
       "   vote_average  vote_count  popularity  genre_id  \n",
       "0           8.4        4368      53.442        28  \n",
       "1           7.6        6538      36.410        28  \n",
       "2           7.5        8980      43.571        28  \n",
       "3           7.4         761       4.467        28  \n",
       "4           7.4       12640      49.144        28  "
      ]
     },
     "execution_count": 552,
     "metadata": {},
     "output_type": "execute_result"
    }
   ],
   "source": [
    "genre_merged.head()"
   ]
  },
  {
   "cell_type": "markdown",
   "metadata": {},
   "source": [
    "### Remake information\n",
    "\n",
    "This file contains remakes scraped from a USA Today article: \n",
    "\n",
    "https://www.usatoday.com/picture-gallery/life/entertainthis/2018/05/05/best-and-worst-movie-remakes-of-all-time/34498459/\n",
    "\n",
    "(See Greg's notebook)"
   ]
  },
  {
   "cell_type": "code",
   "execution_count": 300,
   "metadata": {},
   "outputs": [],
   "source": [
    "remakes = pd.read_csv('remakes.csv')"
   ]
  },
  {
   "cell_type": "code",
   "execution_count": 302,
   "metadata": {},
   "outputs": [],
   "source": [
    "remakes.drop('Unnamed: 0', axis = 1, inplace = True)"
   ]
  },
  {
   "cell_type": "code",
   "execution_count": 306,
   "metadata": {},
   "outputs": [],
   "source": [
    "remakes.drop_duplicates(inplace = True)"
   ]
  },
  {
   "cell_type": "markdown",
   "metadata": {},
   "source": [
    "After cleaning the dataset, I have created a list that we can iterate through for our search API calls"
   ]
  },
  {
   "cell_type": "code",
   "execution_count": 326,
   "metadata": {},
   "outputs": [],
   "source": [
    "remake_list = list(remakes['movie_names'])"
   ]
  },
  {
   "cell_type": "code",
   "execution_count": 327,
   "metadata": {},
   "outputs": [],
   "source": [
    "remake_search = []\n",
    "for remake in remake_list:\n",
    "    response = requests.get('https://api.themoviedb.org/3/search/movie?api_key={}&language=en-US&query={}&page=1&include_adult=false'.format(API, remake))\n",
    "    time.sleep(2)\n",
    "    if response.status_code == 200:\n",
    "        remake_search.append(response.json()['results'])\n",
    "    else: \n",
    "        print('unauthorized')"
   ]
  },
  {
   "cell_type": "code",
   "execution_count": 330,
   "metadata": {},
   "outputs": [],
   "source": [
    "remake_unlist = list(chain.from_iterable(remake_search))"
   ]
  },
  {
   "cell_type": "code",
   "execution_count": 336,
   "metadata": {},
   "outputs": [],
   "source": [
    "remake_df = pd.DataFrame.from_records(remake_unlist)"
   ]
  },
  {
   "cell_type": "markdown",
   "metadata": {},
   "source": [
    "After making a dataframe of our details for each movie remake, we now need to do some cleaning so that we are only using the original and the most recent remake. I have done this by first setting our initial vote count parameter and removing duplicate responses. Further, I have merged this list with the original list of remake titles as the search parameter returned similar titles. "
   ]
  },
  {
   "cell_type": "code",
   "execution_count": 339,
   "metadata": {},
   "outputs": [],
   "source": [
    "remake_df = remake_df[['id', 'title', 'release_date', 'vote_average', 'vote_count']]"
   ]
  },
  {
   "cell_type": "code",
   "execution_count": 348,
   "metadata": {},
   "outputs": [],
   "source": [
    "remake_df = remake_df[remake_df['vote_count'] >= 50]"
   ]
  },
  {
   "cell_type": "code",
   "execution_count": 350,
   "metadata": {},
   "outputs": [],
   "source": [
    "remake_df.reset_index(inplace = True)"
   ]
  },
  {
   "cell_type": "code",
   "execution_count": 531,
   "metadata": {},
   "outputs": [],
   "source": [
    "remake_df.drop('index', axis = 1, inplace = True)"
   ]
  },
  {
   "cell_type": "code",
   "execution_count": 532,
   "metadata": {},
   "outputs": [],
   "source": [
    "remake_df.drop_duplicates(inplace = True)"
   ]
  },
  {
   "cell_type": "code",
   "execution_count": 389,
   "metadata": {},
   "outputs": [],
   "source": [
    "rm_df = pd.DataFrame(remake_list)\n",
    "rm_df.columns = ['title']"
   ]
  },
  {
   "cell_type": "code",
   "execution_count": 391,
   "metadata": {},
   "outputs": [],
   "source": [
    "merged_remake = pd.merge(remake_df, rm_df, on = 'title')"
   ]
  },
  {
   "cell_type": "markdown",
   "metadata": {},
   "source": [
    "Below we have a list of movies that no longer had a pair or were an additional but not the most recent remake. I have dropped the movies within this list."
   ]
  },
  {
   "cell_type": "code",
   "execution_count": 434,
   "metadata": {},
   "outputs": [],
   "source": [
    "to_drop = [42884, 10772, 2020, 8198, 13188, 17979, 16716, 13189, 428081, 197796, 648, 1553, 16559, 43828, 6844, 63, 11673, 5528, 17809, 38985, 3111, 19610, 10445, 11113, 6404, 60935, 10714, 13528, 949, 58857, 34148, 1422, 4481, 8970, 36355, 13972, 25137, 97434, 87567, 5689, 10067, 13184, 46717, 14347, 24070, 263472, 929, 10484, 11045, 18681, 28696]"
   ]
  },
  {
   "cell_type": "code",
   "execution_count": 435,
   "metadata": {},
   "outputs": [],
   "source": [
    "merged_remake = merged_remake[~merged_remake.id.isin(to_drop)]"
   ]
  },
  {
   "cell_type": "markdown",
   "metadata": {},
   "source": [
    "I have now set up an identifier method to pair the movies up so that we can easily sort."
   ]
  },
  {
   "cell_type": "code",
   "execution_count": 479,
   "metadata": {},
   "outputs": [],
   "source": [
    "identifiers = []\n",
    "for num in list(range(1, 56)):\n",
    "    identifiers.append([num]*2)\n",
    "\n",
    "identifiers = list(chain.from_iterable(identifiers))"
   ]
  },
  {
   "cell_type": "code",
   "execution_count": 533,
   "metadata": {},
   "outputs": [],
   "source": [
    "merged_remake['identifiers'] = identifiers"
   ]
  },
  {
   "cell_type": "markdown",
   "metadata": {},
   "source": [
    "By sorting through identifiers and release date, we have paired up our movies such that the first one listed is the original and the second is the most recent remake."
   ]
  },
  {
   "cell_type": "code",
   "execution_count": 465,
   "metadata": {},
   "outputs": [],
   "source": [
    "merged_remake = merged_remake.sort_values(by=['identifiers', 'release_date'])"
   ]
  },
  {
   "cell_type": "code",
   "execution_count": 466,
   "metadata": {},
   "outputs": [],
   "source": [
    "merged_remake.reset_index(inplace = True)"
   ]
  },
  {
   "cell_type": "code",
   "execution_count": 469,
   "metadata": {},
   "outputs": [],
   "source": [
    "merged_remake.drop('index', axis = 1, inplace = True)"
   ]
  },
  {
   "cell_type": "markdown",
   "metadata": {},
   "source": [
    "Now I am making a new dataframe with the information on the new and original movies which are classified by original or remake."
   ]
  },
  {
   "cell_type": "code",
   "execution_count": 477,
   "metadata": {},
   "outputs": [],
   "source": [
    "original = merged_remake.loc[::2]\n",
    "original['type'] = 'Original'"
   ]
  },
  {
   "cell_type": "code",
   "execution_count": 478,
   "metadata": {},
   "outputs": [],
   "source": [
    "new_remake = merged_remake.loc[1::2]\n",
    "new_remake['type'] = 'Remake'"
   ]
  },
  {
   "cell_type": "code",
   "execution_count": 492,
   "metadata": {},
   "outputs": [],
   "source": [
    "to_plot = pd.concat([original, new_remake], axis = 0)"
   ]
  },
  {
   "cell_type": "code",
   "execution_count": 536,
   "metadata": {
    "scrolled": true
   },
   "outputs": [
    {
     "data": {
      "text/html": [
       "<div>\n",
       "<style scoped>\n",
       "    .dataframe tbody tr th:only-of-type {\n",
       "        vertical-align: middle;\n",
       "    }\n",
       "\n",
       "    .dataframe tbody tr th {\n",
       "        vertical-align: top;\n",
       "    }\n",
       "\n",
       "    .dataframe thead th {\n",
       "        text-align: right;\n",
       "    }\n",
       "</style>\n",
       "<table border=\"1\" class=\"dataframe\">\n",
       "  <thead>\n",
       "    <tr style=\"text-align: right;\">\n",
       "      <th></th>\n",
       "      <th>id</th>\n",
       "      <th>title</th>\n",
       "      <th>release_date</th>\n",
       "      <th>vote_average</th>\n",
       "      <th>vote_count</th>\n",
       "      <th>identifiers</th>\n",
       "      <th>type</th>\n",
       "    </tr>\n",
       "  </thead>\n",
       "  <tbody>\n",
       "    <tr>\n",
       "      <th>0</th>\n",
       "      <td>14537</td>\n",
       "      <td>Harakiri</td>\n",
       "      <td>1962-09-15</td>\n",
       "      <td>8.4</td>\n",
       "      <td>260</td>\n",
       "      <td>1</td>\n",
       "      <td>Original</td>\n",
       "    </tr>\n",
       "    <tr>\n",
       "      <th>2</th>\n",
       "      <td>1924</td>\n",
       "      <td>Superman</td>\n",
       "      <td>1978-12-13</td>\n",
       "      <td>7.0</td>\n",
       "      <td>1883</td>\n",
       "      <td>2</td>\n",
       "      <td>Original</td>\n",
       "    </tr>\n",
       "    <tr>\n",
       "      <th>4</th>\n",
       "      <td>25842</td>\n",
       "      <td>A Christmas Carol</td>\n",
       "      <td>1938-12-16</td>\n",
       "      <td>7.2</td>\n",
       "      <td>56</td>\n",
       "      <td>3</td>\n",
       "      <td>Original</td>\n",
       "    </tr>\n",
       "    <tr>\n",
       "      <th>6</th>\n",
       "      <td>981</td>\n",
       "      <td>The Philadelphia Story</td>\n",
       "      <td>1940-12-05</td>\n",
       "      <td>7.8</td>\n",
       "      <td>370</td>\n",
       "      <td>4</td>\n",
       "      <td>Original</td>\n",
       "    </tr>\n",
       "    <tr>\n",
       "      <th>8</th>\n",
       "      <td>11224</td>\n",
       "      <td>Cinderella</td>\n",
       "      <td>1950-03-04</td>\n",
       "      <td>6.9</td>\n",
       "      <td>3701</td>\n",
       "      <td>5</td>\n",
       "      <td>Original</td>\n",
       "    </tr>\n",
       "  </tbody>\n",
       "</table>\n",
       "</div>"
      ],
      "text/plain": [
       "      id                   title release_date  vote_average  vote_count  \\\n",
       "0  14537                Harakiri   1962-09-15           8.4         260   \n",
       "2   1924                Superman   1978-12-13           7.0        1883   \n",
       "4  25842       A Christmas Carol   1938-12-16           7.2          56   \n",
       "6    981  The Philadelphia Story   1940-12-05           7.8         370   \n",
       "8  11224              Cinderella   1950-03-04           6.9        3701   \n",
       "\n",
       "   identifiers      type  \n",
       "0            1  Original  \n",
       "2            2  Original  \n",
       "4            3  Original  \n",
       "6            4  Original  \n",
       "8            5  Original  "
      ]
     },
     "execution_count": 536,
     "metadata": {},
     "output_type": "execute_result"
    }
   ],
   "source": [
    "to_plot.head()"
   ]
  },
  {
   "cell_type": "markdown",
   "metadata": {},
   "source": [
    "# Statistics\n",
    "\n",
    "Per an article investigating movie ratings, I have set our alpha values to 0.01.\n",
    "\n",
    "(https://www.researchgate.net/profile/Victor_Ginsburgh/publication/24125204_Are_Remakes_Doing_as_Well_as_Originals_A_note/links/00b7d5277f6b090097000000/Are-Remakes-Doing-as-Well-as-Originals-A-note.pdf)"
   ]
  },
  {
   "cell_type": "markdown",
   "metadata": {},
   "source": [
    "## Let's check out our first hypothesis: \n",
    "\n",
    "H0: There is no correlation between user rating and budget for top rated movies made in 2018.\n",
    "\n",
    "H1: There is a correlation between user rating and budget for top rated movies made in 2018."
   ]
  },
  {
   "cell_type": "markdown",
   "metadata": {},
   "source": [
    "### Plotting a regression plot with Seaborn\n",
    "\n",
    "Let's first take a look at a regression plot to see what kind of relationship there is between budget and average user score."
   ]
  },
  {
   "cell_type": "code",
   "execution_count": 539,
   "metadata": {},
   "outputs": [
    {
     "data": {
      "text/plain": [
       "Text(0, 0.5, 'Budget')"
      ]
     },
     "execution_count": 539,
     "metadata": {},
     "output_type": "execute_result"
    },
    {
     "data": {
      "image/png": "[encoded data removed]",
      "text/plain": [
       "<Figure size 1080x720 with 1 Axes>"
      ]
     },
     "metadata": {
      "needs_background": "light"
     },
     "output_type": "display_data"
    }
   ],
   "source": [
    "plt.figure(figsize=(15, 10))\n",
    "sns.regplot(x = df_merged.vote_average, y = df_merged.budget_c, data = df_merged)\n",
    "plt.title('Relationship Between Budget and Average Vote Score')\n",
    "plt.xlabel('Average Vote Score')\n",
    "pblt.ylabel('Budget')"
   ]
  },
  {
   "cell_type": "markdown",
   "metadata": {},
   "source": [
    "### Pearson's R\n",
    "\n",
    "Now we will run Pearson's R to see if there is a correlation between budget and voter score."
   ]
  },
  {
   "cell_type": "code",
   "execution_count": 540,
   "metadata": {},
   "outputs": [
    {
     "data": {
      "text/plain": [
       "(0.18495217838859782, 0.006926450741945338)"
      ]
     },
     "execution_count": 540,
     "metadata": {},
     "output_type": "execute_result"
    }
   ],
   "source": [
    "stats.pearsonr(df_merged.vote_average, df_merged.budget_c)"
   ]
  },
  {
   "cell_type": "markdown",
   "metadata": {},
   "source": [
    "## Now let's take a look at our second hypothesis:\n",
    "\n",
    "H0 = There is no significant difference between average user rating and genre."
   ]
  },
  {
   "cell_type": "markdown",
   "metadata": {},
   "source": [
    "Our groups are not the same size so here is a quick visualization to see the breakdown. We have a total sample size of 572."
   ]
  },
  {
   "cell_type": "code",
   "execution_count": 555,
   "metadata": {},
   "outputs": [
    {
     "data": {
      "image/png": "[encoded data removed]",
      "text/plain": [
       "<Figure size 576x576 with 1 Axes>"
      ]
     },
     "metadata": {},
     "output_type": "display_data"
    }
   ],
   "source": [
    "pie = genre_merged.groupby('genre').size()\n",
    "params.update({'font.size': 15})\n",
    "pie.plot(kind='pie', subplots=True, figsize=(8, 8))\n",
    "plt.title(\"Genres\")\n",
    "plt.ylabel(\"\")\n",
    "plt.show()"
   ]
  },
  {
   "cell_type": "markdown",
   "metadata": {},
   "source": [
    "I am now running a Shapiro-Wilkes Test to assess normality. We unfortunately violated this assumption."
   ]
  },
  {
   "cell_type": "code",
   "execution_count": 558,
   "metadata": {
    "scrolled": true
   },
   "outputs": [
    {
     "data": {
      "text/plain": [
       "(0.9915781617164612, 0.0024627158418297768)"
      ]
     },
     "execution_count": 558,
     "metadata": {},
     "output_type": "execute_result"
    }
   ],
   "source": [
    "stats.shapiro(genre_merged['vote_average'])"
   ]
  },
  {
   "cell_type": "markdown",
   "metadata": {},
   "source": [
    "## One-Way ANOVA\n",
    "\n",
    "Here I am running the one-way ANOVA. We can see that our p value is significant which tells us that genre does have an impact on user vote scores."
   ]
  },
  {
   "cell_type": "code",
   "execution_count": 560,
   "metadata": {},
   "outputs": [
    {
     "name": "stdout",
     "output_type": "stream",
     "text": [
      "              sum_sq     df         F        PR(>F)\n",
      "C(genre)   78.684307   11.0  9.498925  8.539053e-16\n",
      "Residual  421.705256  560.0       NaN           NaN\n"
     ]
    }
   ],
   "source": [
    "formula = 'vote_average ~ C(genre)'\n",
    "lm = ols(formula, genre_merged).fit()\n",
    "table = sm.stats.anova_lm(lm, typ=2)\n",
    "print(table)"
   ]
  },
  {
   "cell_type": "markdown",
   "metadata": {},
   "source": [
    "Below I have run a Tukey HSD to assess the affect of each genre. I have displayed only those that reject the null hypothesis."
   ]
  },
  {
   "cell_type": "code",
   "execution_count": 563,
   "metadata": {
    "scrolled": true
   },
   "outputs": [
    {
     "data": {
      "text/html": [
       "<div>\n",
       "<style scoped>\n",
       "    .dataframe tbody tr th:only-of-type {\n",
       "        vertical-align: middle;\n",
       "    }\n",
       "\n",
       "    .dataframe tbody tr th {\n",
       "        vertical-align: top;\n",
       "    }\n",
       "\n",
       "    .dataframe thead th {\n",
       "        text-align: right;\n",
       "    }\n",
       "</style>\n",
       "<table border=\"1\" class=\"dataframe\">\n",
       "  <thead>\n",
       "    <tr style=\"text-align: right;\">\n",
       "      <th></th>\n",
       "      <th>group1</th>\n",
       "      <th>group2</th>\n",
       "      <th>meandiff</th>\n",
       "      <th>lower</th>\n",
       "      <th>upper</th>\n",
       "      <th>reject</th>\n",
       "    </tr>\n",
       "  </thead>\n",
       "  <tbody>\n",
       "    <tr>\n",
       "      <th>1</th>\n",
       "      <td>Action</td>\n",
       "      <td>Animation</td>\n",
       "      <td>0.8738</td>\n",
       "      <td>0.1004</td>\n",
       "      <td>1.6473</td>\n",
       "      <td>True</td>\n",
       "    </tr>\n",
       "    <tr>\n",
       "      <th>4</th>\n",
       "      <td>Action</td>\n",
       "      <td>Documentary</td>\n",
       "      <td>1.4138</td>\n",
       "      <td>0.5768</td>\n",
       "      <td>2.2507</td>\n",
       "      <td>True</td>\n",
       "    </tr>\n",
       "    <tr>\n",
       "      <th>5</th>\n",
       "      <td>Action</td>\n",
       "      <td>Drama</td>\n",
       "      <td>0.6494</td>\n",
       "      <td>0.2248</td>\n",
       "      <td>1.0740</td>\n",
       "      <td>True</td>\n",
       "    </tr>\n",
       "    <tr>\n",
       "      <th>14</th>\n",
       "      <td>Adventure</td>\n",
       "      <td>Documentary</td>\n",
       "      <td>1.1405</td>\n",
       "      <td>0.1578</td>\n",
       "      <td>2.1232</td>\n",
       "      <td>True</td>\n",
       "    </tr>\n",
       "    <tr>\n",
       "      <th>25</th>\n",
       "      <td>Animation</td>\n",
       "      <td>Horror</td>\n",
       "      <td>-1.2779</td>\n",
       "      <td>-2.1327</td>\n",
       "      <td>-0.4232</td>\n",
       "      <td>True</td>\n",
       "    </tr>\n",
       "    <tr>\n",
       "      <th>26</th>\n",
       "      <td>Animation</td>\n",
       "      <td>Mystery</td>\n",
       "      <td>-1.1458</td>\n",
       "      <td>-2.1737</td>\n",
       "      <td>-0.1179</td>\n",
       "      <td>True</td>\n",
       "    </tr>\n",
       "    <tr>\n",
       "      <th>28</th>\n",
       "      <td>Animation</td>\n",
       "      <td>Science Fiction</td>\n",
       "      <td>-1.1296</td>\n",
       "      <td>-1.9942</td>\n",
       "      <td>-0.2650</td>\n",
       "      <td>True</td>\n",
       "    </tr>\n",
       "    <tr>\n",
       "      <th>29</th>\n",
       "      <td>Animation</td>\n",
       "      <td>Thriller</td>\n",
       "      <td>-0.8010</td>\n",
       "      <td>-1.5967</td>\n",
       "      <td>-0.0053</td>\n",
       "      <td>True</td>\n",
       "    </tr>\n",
       "    <tr>\n",
       "      <th>31</th>\n",
       "      <td>Comedy</td>\n",
       "      <td>Documentary</td>\n",
       "      <td>1.1942</td>\n",
       "      <td>0.3976</td>\n",
       "      <td>1.9908</td>\n",
       "      <td>True</td>\n",
       "    </tr>\n",
       "    <tr>\n",
       "      <th>32</th>\n",
       "      <td>Comedy</td>\n",
       "      <td>Drama</td>\n",
       "      <td>0.4298</td>\n",
       "      <td>0.0916</td>\n",
       "      <td>0.7680</td>\n",
       "      <td>True</td>\n",
       "    </tr>\n",
       "    <tr>\n",
       "      <th>33</th>\n",
       "      <td>Comedy</td>\n",
       "      <td>Horror</td>\n",
       "      <td>-0.6236</td>\n",
       "      <td>-1.1792</td>\n",
       "      <td>-0.0681</td>\n",
       "      <td>True</td>\n",
       "    </tr>\n",
       "    <tr>\n",
       "      <th>38</th>\n",
       "      <td>Crime</td>\n",
       "      <td>Documentary</td>\n",
       "      <td>1.1310</td>\n",
       "      <td>0.1483</td>\n",
       "      <td>2.1136</td>\n",
       "      <td>True</td>\n",
       "    </tr>\n",
       "    <tr>\n",
       "      <th>46</th>\n",
       "      <td>Documentary</td>\n",
       "      <td>Horror</td>\n",
       "      <td>-1.8179</td>\n",
       "      <td>-2.7305</td>\n",
       "      <td>-0.9052</td>\n",
       "      <td>True</td>\n",
       "    </tr>\n",
       "    <tr>\n",
       "      <th>47</th>\n",
       "      <td>Documentary</td>\n",
       "      <td>Mystery</td>\n",
       "      <td>-1.6857</td>\n",
       "      <td>-2.7622</td>\n",
       "      <td>-0.6092</td>\n",
       "      <td>True</td>\n",
       "    </tr>\n",
       "    <tr>\n",
       "      <th>48</th>\n",
       "      <td>Documentary</td>\n",
       "      <td>Romance</td>\n",
       "      <td>-1.0379</td>\n",
       "      <td>-2.0303</td>\n",
       "      <td>-0.0454</td>\n",
       "      <td>True</td>\n",
       "    </tr>\n",
       "    <tr>\n",
       "      <th>49</th>\n",
       "      <td>Documentary</td>\n",
       "      <td>Science Fiction</td>\n",
       "      <td>-1.6695</td>\n",
       "      <td>-2.5914</td>\n",
       "      <td>-0.7477</td>\n",
       "      <td>True</td>\n",
       "    </tr>\n",
       "    <tr>\n",
       "      <th>50</th>\n",
       "      <td>Documentary</td>\n",
       "      <td>Thriller</td>\n",
       "      <td>-1.3409</td>\n",
       "      <td>-2.1985</td>\n",
       "      <td>-0.4834</td>\n",
       "      <td>True</td>\n",
       "    </tr>\n",
       "    <tr>\n",
       "      <th>51</th>\n",
       "      <td>Drama</td>\n",
       "      <td>Horror</td>\n",
       "      <td>-1.0535</td>\n",
       "      <td>-1.6127</td>\n",
       "      <td>-0.4943</td>\n",
       "      <td>True</td>\n",
       "    </tr>\n",
       "    <tr>\n",
       "      <th>52</th>\n",
       "      <td>Drama</td>\n",
       "      <td>Mystery</td>\n",
       "      <td>-0.9213</td>\n",
       "      <td>-1.7205</td>\n",
       "      <td>-0.1222</td>\n",
       "      <td>True</td>\n",
       "    </tr>\n",
       "    <tr>\n",
       "      <th>54</th>\n",
       "      <td>Drama</td>\n",
       "      <td>Science Fiction</td>\n",
       "      <td>-0.9051</td>\n",
       "      <td>-1.4792</td>\n",
       "      <td>-0.3310</td>\n",
       "      <td>True</td>\n",
       "    </tr>\n",
       "    <tr>\n",
       "      <th>55</th>\n",
       "      <td>Drama</td>\n",
       "      <td>Thriller</td>\n",
       "      <td>-0.5765</td>\n",
       "      <td>-1.0404</td>\n",
       "      <td>-0.1126</td>\n",
       "      <td>True</td>\n",
       "    </tr>\n",
       "  </tbody>\n",
       "</table>\n",
       "</div>"
      ],
      "text/plain": [
       "         group1           group2  meandiff   lower   upper  reject\n",
       "1        Action        Animation    0.8738  0.1004  1.6473    True\n",
       "4        Action      Documentary    1.4138  0.5768  2.2507    True\n",
       "5        Action            Drama    0.6494  0.2248  1.0740    True\n",
       "14    Adventure      Documentary    1.1405  0.1578  2.1232    True\n",
       "25    Animation           Horror   -1.2779 -2.1327 -0.4232    True\n",
       "26    Animation          Mystery   -1.1458 -2.1737 -0.1179    True\n",
       "28    Animation  Science Fiction   -1.1296 -1.9942 -0.2650    True\n",
       "29    Animation         Thriller   -0.8010 -1.5967 -0.0053    True\n",
       "31       Comedy      Documentary    1.1942  0.3976  1.9908    True\n",
       "32       Comedy            Drama    0.4298  0.0916  0.7680    True\n",
       "33       Comedy           Horror   -0.6236 -1.1792 -0.0681    True\n",
       "38        Crime      Documentary    1.1310  0.1483  2.1136    True\n",
       "46  Documentary           Horror   -1.8179 -2.7305 -0.9052    True\n",
       "47  Documentary          Mystery   -1.6857 -2.7622 -0.6092    True\n",
       "48  Documentary          Romance   -1.0379 -2.0303 -0.0454    True\n",
       "49  Documentary  Science Fiction   -1.6695 -2.5914 -0.7477    True\n",
       "50  Documentary         Thriller   -1.3409 -2.1985 -0.4834    True\n",
       "51        Drama           Horror   -1.0535 -1.6127 -0.4943    True\n",
       "52        Drama          Mystery   -0.9213 -1.7205 -0.1222    True\n",
       "54        Drama  Science Fiction   -0.9051 -1.4792 -0.3310    True\n",
       "55        Drama         Thriller   -0.5765 -1.0404 -0.1126    True"
      ]
     },
     "execution_count": 563,
     "metadata": {},
     "output_type": "execute_result"
    }
   ],
   "source": [
    "comp = pairwise_tukeyhsd(endog=genre_merged['vote_average'], groups=genre_merged['genre'], alpha=0.05)\n",
    "tukey = pd.DataFrame(data=comp._results_table.data[1:], columns=comp._results_table.data[0])\n",
    "tukey[tukey['reject'] == 1]"
   ]
  },
  {
   "cell_type": "markdown",
   "metadata": {},
   "source": [
    "### Visualization\n",
    "\n",
    "Now we can take a look at our ANOVA in action"
   ]
  },
  {
   "cell_type": "code",
   "execution_count": 564,
   "metadata": {},
   "outputs": [
    {
     "data": {
      "text/plain": [
       "Text(0, 0.5, 'Average Vote Score')"
      ]
     },
     "execution_count": 564,
     "metadata": {},
     "output_type": "execute_result"
    },
    {
     "data": {
      "image/png": "[encoded data removed]",
      "text/plain": [
       "<Figure size 2160x1440 with 1 Axes>"
      ]
     },
     "metadata": {
      "needs_background": "light"
     },
     "output_type": "display_data"
    }
   ],
   "source": [
    "plt.figure(figsize=(30, 20))\n",
    "params.update({'font.size': 22})\n",
    "sns.boxplot(x = genre_merged['genre'], y = genre_merged['vote_average'])\n",
    "plt.title('Average Vote Score for Movies Based on Their Main Theme')\n",
    "plt.xlabel('Genre')\n",
    "plt.ylabel('Average Vote Score')"
   ]
  },
  {
   "cell_type": "markdown",
   "metadata": {},
   "source": [
    "## Our third hypothesis: \n",
    "\n",
    "H0: There is no significant difference in user rating between an original movie and its most recent remake.\n",
    "\n",
    "H1: There is a significant difference in user rating between an original movie and its most recent remake."
   ]
  },
  {
   "cell_type": "markdown",
   "metadata": {},
   "source": [
    "Let's first see how our two groups (original movie and recent remake) are distributed."
   ]
  },
  {
   "cell_type": "code",
   "execution_count": 481,
   "metadata": {},
   "outputs": [
    {
     "data": {
      "text/plain": [
       "<matplotlib.axes._subplots.AxesSubplot at 0x1a2651b128>"
      ]
     },
     "execution_count": 481,
     "metadata": {},
     "output_type": "execute_result"
    },
    {
     "data": {
      "image/png": "[encoded data removed]",
      "text/plain": [
       "<Figure size 432x288 with 1 Axes>"
      ]
     },
     "metadata": {
      "needs_background": "light"
     },
     "output_type": "display_data"
    }
   ],
   "source": [
    "sns.distplot(original.vote_average)"
   ]
  },
  {
   "cell_type": "code",
   "execution_count": 482,
   "metadata": {
    "scrolled": true
   },
   "outputs": [
    {
     "data": {
      "text/plain": [
       "<matplotlib.axes._subplots.AxesSubplot at 0x1a2c1d17f0>"
      ]
     },
     "execution_count": 482,
     "metadata": {},
     "output_type": "execute_result"
    },
    {
     "data": {
      "image/png": "[encoded data removed]",
      "text/plain": [
       "<Figure size 432x288 with 1 Axes>"
      ]
     },
     "metadata": {
      "needs_background": "light"
     },
     "output_type": "display_data"
    }
   ],
   "source": [
    "sns.distplot(new_remake.vote_average)"
   ]
  },
  {
   "cell_type": "markdown",
   "metadata": {},
   "source": [
    "Not perfect, but we don't have a strong skew."
   ]
  },
  {
   "cell_type": "markdown",
   "metadata": {},
   "source": [
    "### Paired-Samples T-Test\n",
    "\n",
    "As we can see, we have a significant p-value. I have set our alpha to a = 0.01.\n"
   ]
  },
  {
   "cell_type": "code",
   "execution_count": 483,
   "metadata": {
    "scrolled": true
   },
   "outputs": [
    {
     "data": {
      "text/plain": [
       "Ttest_relResult(statistic=7.367641121822601, pvalue=1.0420047130882102e-09)"
      ]
     },
     "execution_count": 483,
     "metadata": {},
     "output_type": "execute_result"
    }
   ],
   "source": [
    "stats.ttest_rel(original.vote_average, new_remake.vote_average)"
   ]
  },
  {
   "cell_type": "markdown",
   "metadata": {},
   "source": [
    "### Visualization"
   ]
  },
  {
   "cell_type": "code",
   "execution_count": 521,
   "metadata": {},
   "outputs": [
    {
     "data": {
      "text/plain": [
       "Text(0, 0.5, 'Average Vote Score')"
      ]
     },
     "execution_count": 521,
     "metadata": {},
     "output_type": "execute_result"
    },
    {
     "data": {
      "image/png": "[encoded data removed]",
      "text/plain": [
       "<Figure size 1080x720 with 1 Axes>"
      ]
     },
     "metadata": {
      "needs_background": "light"
     },
     "output_type": "display_data"
    }
   ],
   "source": [
    "plt.figure(figsize=(15, 10))\n",
    "sns.boxplot(x = to_plot['type'], y = to_plot['vote_average'], palette=\"Blues\")\n",
    "plt.title('Average Vote Score for Original Movies and Their Remakes')\n",
    "plt.xlabel('Type of Movie')\n",
    "plt.ylabel('Average Vote Score')"
   ]
  },
  {
   "cell_type": "markdown",
   "metadata": {},
   "source": [
    "# Summary\n",
    "\n",
    "As we can see from the results above, we can reject all of our null hypotheses. \n",
    "\n",
    "However there are some things to keep in mind:\n",
    "\n",
    "Violation of the normality assumptions may be an issue but will hopefully be compensated by our large sample sizes. \n",
    "\n",
    "Further, in regard to genre, because we have grouped these as themes they are not completely independent of each other. "
   ]
  }
 ],
 "metadata": {
  "kernelspec": {
   "display_name": "Python 3",
   "language": "python",
   "name": "python3"
  },
  "language_info": {
   "codemirror_mode": {
    "name": "ipython",
    "version": 3
   },
   "file_extension": ".py",
   "mimetype": "text/x-python",
   "name": "python",
   "nbconvert_exporter": "python",
   "pygments_lexer": "ipython3",
   "version": "3.7.3"
  }
 },
 "nbformat": 4,
 "nbformat_minor": 2
}
