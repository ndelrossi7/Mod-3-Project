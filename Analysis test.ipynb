{
 "cells": [
  {
   "cell_type": "code",
   "execution_count": 1,
   "metadata": {},
   "outputs": [],
   "source": [
    "import pandas as pd\n",
    "import sqlite3\n",
    "conn = sqlite3.connect('tmdb.db')"
   ]
  },
  {
   "cell_type": "code",
   "execution_count": 2,
   "metadata": {},
   "outputs": [],
   "source": [
    "c = conn.cursor()"
   ]
  },
  {
   "cell_type": "code",
   "execution_count": 62,
   "metadata": {},
   "outputs": [
    {
     "data": {
      "text/plain": [
       "[(1, 28, 'Action'),\n",
       " (2, 12, 'Adventure'),\n",
       " (3, 16, 'Animation'),\n",
       " (4, 35, 'Comedy'),\n",
       " (5, 80, 'Crime'),\n",
       " (6, 99, 'Documentary'),\n",
       " (7, 18, 'Drama'),\n",
       " (8, 10751, 'Family'),\n",
       " (9, 14, 'Fantasy'),\n",
       " (10, 36, 'History'),\n",
       " (11, 27, 'Horror'),\n",
       " (12, 10402, 'Music'),\n",
       " (13, 9648, 'Mystery'),\n",
       " (14, 10749, 'Romance'),\n",
       " (15, 878, 'Science Fiction'),\n",
       " (16, 10770, 'TV Movie'),\n",
       " (17, 53, 'Thriller'),\n",
       " (18, 10752, 'War'),\n",
       " (19, 37, 'Western')]"
      ]
     },
     "execution_count": 62,
     "metadata": {},
     "output_type": "execute_result"
    }
   ],
   "source": [
    "c.execute(\"\"\"SELECT * FROM genres\"\"\").fetchall()"
   ]
  },
  {
   "cell_type": "code",
   "execution_count": 64,
   "metadata": {},
   "outputs": [],
   "source": [
    "genres = pd.read_sql('SELECT * FROM genres', conn)"
   ]
  },
  {
   "cell_type": "code",
   "execution_count": 5,
   "metadata": {},
   "outputs": [],
   "source": [
    "genre_info = pd.read_sql('SELECT * FROM genre_info', conn)"
   ]
  },
  {
   "cell_type": "code",
   "execution_count": 12,
   "metadata": {},
   "outputs": [],
   "source": [
    "genre_info.drop(['index'], axis = 1, inplace = True)"
   ]
  },
  {
   "cell_type": "code",
   "execution_count": 9,
   "metadata": {},
   "outputs": [],
   "source": [
    "top_rated_df = pd.read_sql('SELECT * FROM top_rated', conn)"
   ]
  },
  {
   "cell_type": "code",
   "execution_count": 13,
   "metadata": {},
   "outputs": [],
   "source": [
    "top_rated_df.drop(['index'], axis = 1, inplace = True)"
   ]
  },
  {
   "cell_type": "code",
   "execution_count": 14,
   "metadata": {},
   "outputs": [],
   "source": [
    "genre_merged = pd.merge(top_rated_df, genre_info, on = 'id')"
   ]
  },
  {
   "cell_type": "code",
   "execution_count": 73,
   "metadata": {
    "scrolled": true
   },
   "outputs": [],
   "source": [
    "genre_merged = pd.merge(genres, genre_merged, left_on = 'id', right_on = 'genre_id')"
   ]
  },
  {
   "cell_type": "code",
   "execution_count": 53,
   "metadata": {},
   "outputs": [],
   "source": [
    "genre_merged = genre_merged.groupby('genre_id').filter(lambda x : len(x)>= 10)"
   ]
  },
  {
   "cell_type": "code",
   "execution_count": 79,
   "metadata": {},
   "outputs": [],
   "source": [
    "genre_merged.drop(['index', 'id_x'], axis = 1, inplace = True)"
   ]
  },
  {
   "cell_type": "code",
   "execution_count": 16,
   "metadata": {},
   "outputs": [],
   "source": [
    "import pandas as pd\n",
    "import statsmodels.api as sm\n",
    "from statsmodels.formula.api import ols\n",
    "import scipy.stats as stats\n",
    "from statsmodels.stats.multicomp import pairwise_tukeyhsd"
   ]
  },
  {
   "cell_type": "code",
   "execution_count": 75,
   "metadata": {
    "scrolled": false
   },
   "outputs": [
    {
     "data": {
      "text/plain": [
       "Comedy             147\n",
       "Drama              137\n",
       "Action              67\n",
       "Thriller            52\n",
       "Horror              32\n",
       "Science Fiction     30\n",
       "Crime               21\n",
       "Adventure           21\n",
       "Romance             20\n",
       "Animation           17\n",
       "Mystery             14\n",
       "Documentary         14\n",
       "Name: genre, dtype: int64"
      ]
     },
     "execution_count": 75,
     "metadata": {},
     "output_type": "execute_result"
    }
   ],
   "source": [
    "genre_merged.genre.value_counts()"
   ]
  },
  {
   "cell_type": "code",
   "execution_count": 55,
   "metadata": {
    "scrolled": true
   },
   "outputs": [
    {
     "data": {
      "text/plain": [
       "(0.9915781617164612, 0.0024627158418297768)"
      ]
     },
     "execution_count": 55,
     "metadata": {},
     "output_type": "execute_result"
    }
   ],
   "source": [
    "stats.shapiro(genre_merged['vote_average'])"
   ]
  },
  {
   "cell_type": "code",
   "execution_count": 76,
   "metadata": {},
   "outputs": [
    {
     "name": "stdout",
     "output_type": "stream",
     "text": [
      "              sum_sq     df         F        PR(>F)\n",
      "C(genre)   78.684307   11.0  9.498925  8.539053e-16\n",
      "Residual  421.705256  560.0       NaN           NaN\n"
     ]
    }
   ],
   "source": [
    "formula = 'vote_average ~ C(genre)'\n",
    "lm = ols(formula, genre_merged).fit()\n",
    "table = sm.stats.anova_lm(lm, typ=2)\n",
    "print(table)"
   ]
  },
  {
   "cell_type": "code",
   "execution_count": 84,
   "metadata": {},
   "outputs": [
    {
     "data": {
      "text/plain": [
       "statsmodels.sandbox.stats.multicomp.TukeyHSDResults"
      ]
     },
     "execution_count": 84,
     "metadata": {},
     "output_type": "execute_result"
    }
   ],
   "source": [
    "m_comp = pairwise_tukeyhsd(endog=genre_merged['vote_average'], groups=genre_merged['genre'], alpha=0.05)\n",
    "type(m_comp)\n"
   ]
  },
  {
   "cell_type": "code",
   "execution_count": 85,
   "metadata": {},
   "outputs": [],
   "source": [
    "tukey = pd.DataFrame(data=m_comp._results_table.data[1:], columns=m_comp._results_table.data[0])\n"
   ]
  },
  {
   "cell_type": "code",
   "execution_count": 102,
   "metadata": {},
   "outputs": [
    {
     "data": {
      "text/html": [
       "<div>\n",
       "<style scoped>\n",
       "    .dataframe tbody tr th:only-of-type {\n",
       "        vertical-align: middle;\n",
       "    }\n",
       "\n",
       "    .dataframe tbody tr th {\n",
       "        vertical-align: top;\n",
       "    }\n",
       "\n",
       "    .dataframe thead th {\n",
       "        text-align: right;\n",
       "    }\n",
       "</style>\n",
       "<table border=\"1\" class=\"dataframe\">\n",
       "  <thead>\n",
       "    <tr style=\"text-align: right;\">\n",
       "      <th></th>\n",
       "      <th>group1</th>\n",
       "      <th>group2</th>\n",
       "      <th>meandiff</th>\n",
       "      <th>lower</th>\n",
       "      <th>upper</th>\n",
       "      <th>reject</th>\n",
       "    </tr>\n",
       "  </thead>\n",
       "  <tbody>\n",
       "    <tr>\n",
       "      <th>1</th>\n",
       "      <td>Action</td>\n",
       "      <td>Animation</td>\n",
       "      <td>0.8738</td>\n",
       "      <td>0.1004</td>\n",
       "      <td>1.6473</td>\n",
       "      <td>True</td>\n",
       "    </tr>\n",
       "    <tr>\n",
       "      <th>4</th>\n",
       "      <td>Action</td>\n",
       "      <td>Documentary</td>\n",
       "      <td>1.4138</td>\n",
       "      <td>0.5768</td>\n",
       "      <td>2.2507</td>\n",
       "      <td>True</td>\n",
       "    </tr>\n",
       "    <tr>\n",
       "      <th>5</th>\n",
       "      <td>Action</td>\n",
       "      <td>Drama</td>\n",
       "      <td>0.6494</td>\n",
       "      <td>0.2248</td>\n",
       "      <td>1.0740</td>\n",
       "      <td>True</td>\n",
       "    </tr>\n",
       "    <tr>\n",
       "      <th>14</th>\n",
       "      <td>Adventure</td>\n",
       "      <td>Documentary</td>\n",
       "      <td>1.1405</td>\n",
       "      <td>0.1578</td>\n",
       "      <td>2.1232</td>\n",
       "      <td>True</td>\n",
       "    </tr>\n",
       "    <tr>\n",
       "      <th>25</th>\n",
       "      <td>Animation</td>\n",
       "      <td>Horror</td>\n",
       "      <td>-1.2779</td>\n",
       "      <td>-2.1327</td>\n",
       "      <td>-0.4232</td>\n",
       "      <td>True</td>\n",
       "    </tr>\n",
       "    <tr>\n",
       "      <th>26</th>\n",
       "      <td>Animation</td>\n",
       "      <td>Mystery</td>\n",
       "      <td>-1.1458</td>\n",
       "      <td>-2.1737</td>\n",
       "      <td>-0.1179</td>\n",
       "      <td>True</td>\n",
       "    </tr>\n",
       "    <tr>\n",
       "      <th>28</th>\n",
       "      <td>Animation</td>\n",
       "      <td>Science Fiction</td>\n",
       "      <td>-1.1296</td>\n",
       "      <td>-1.9942</td>\n",
       "      <td>-0.2650</td>\n",
       "      <td>True</td>\n",
       "    </tr>\n",
       "    <tr>\n",
       "      <th>29</th>\n",
       "      <td>Animation</td>\n",
       "      <td>Thriller</td>\n",
       "      <td>-0.8010</td>\n",
       "      <td>-1.5967</td>\n",
       "      <td>-0.0053</td>\n",
       "      <td>True</td>\n",
       "    </tr>\n",
       "    <tr>\n",
       "      <th>31</th>\n",
       "      <td>Comedy</td>\n",
       "      <td>Documentary</td>\n",
       "      <td>1.1942</td>\n",
       "      <td>0.3976</td>\n",
       "      <td>1.9908</td>\n",
       "      <td>True</td>\n",
       "    </tr>\n",
       "    <tr>\n",
       "      <th>32</th>\n",
       "      <td>Comedy</td>\n",
       "      <td>Drama</td>\n",
       "      <td>0.4298</td>\n",
       "      <td>0.0916</td>\n",
       "      <td>0.7680</td>\n",
       "      <td>True</td>\n",
       "    </tr>\n",
       "    <tr>\n",
       "      <th>33</th>\n",
       "      <td>Comedy</td>\n",
       "      <td>Horror</td>\n",
       "      <td>-0.6236</td>\n",
       "      <td>-1.1792</td>\n",
       "      <td>-0.0681</td>\n",
       "      <td>True</td>\n",
       "    </tr>\n",
       "    <tr>\n",
       "      <th>38</th>\n",
       "      <td>Crime</td>\n",
       "      <td>Documentary</td>\n",
       "      <td>1.1310</td>\n",
       "      <td>0.1483</td>\n",
       "      <td>2.1136</td>\n",
       "      <td>True</td>\n",
       "    </tr>\n",
       "    <tr>\n",
       "      <th>46</th>\n",
       "      <td>Documentary</td>\n",
       "      <td>Horror</td>\n",
       "      <td>-1.8179</td>\n",
       "      <td>-2.7305</td>\n",
       "      <td>-0.9052</td>\n",
       "      <td>True</td>\n",
       "    </tr>\n",
       "    <tr>\n",
       "      <th>47</th>\n",
       "      <td>Documentary</td>\n",
       "      <td>Mystery</td>\n",
       "      <td>-1.6857</td>\n",
       "      <td>-2.7622</td>\n",
       "      <td>-0.6092</td>\n",
       "      <td>True</td>\n",
       "    </tr>\n",
       "    <tr>\n",
       "      <th>48</th>\n",
       "      <td>Documentary</td>\n",
       "      <td>Romance</td>\n",
       "      <td>-1.0379</td>\n",
       "      <td>-2.0303</td>\n",
       "      <td>-0.0454</td>\n",
       "      <td>True</td>\n",
       "    </tr>\n",
       "    <tr>\n",
       "      <th>49</th>\n",
       "      <td>Documentary</td>\n",
       "      <td>Science Fiction</td>\n",
       "      <td>-1.6695</td>\n",
       "      <td>-2.5914</td>\n",
       "      <td>-0.7477</td>\n",
       "      <td>True</td>\n",
       "    </tr>\n",
       "    <tr>\n",
       "      <th>50</th>\n",
       "      <td>Documentary</td>\n",
       "      <td>Thriller</td>\n",
       "      <td>-1.3409</td>\n",
       "      <td>-2.1985</td>\n",
       "      <td>-0.4834</td>\n",
       "      <td>True</td>\n",
       "    </tr>\n",
       "    <tr>\n",
       "      <th>51</th>\n",
       "      <td>Drama</td>\n",
       "      <td>Horror</td>\n",
       "      <td>-1.0535</td>\n",
       "      <td>-1.6127</td>\n",
       "      <td>-0.4943</td>\n",
       "      <td>True</td>\n",
       "    </tr>\n",
       "    <tr>\n",
       "      <th>52</th>\n",
       "      <td>Drama</td>\n",
       "      <td>Mystery</td>\n",
       "      <td>-0.9213</td>\n",
       "      <td>-1.7205</td>\n",
       "      <td>-0.1222</td>\n",
       "      <td>True</td>\n",
       "    </tr>\n",
       "    <tr>\n",
       "      <th>54</th>\n",
       "      <td>Drama</td>\n",
       "      <td>Science Fiction</td>\n",
       "      <td>-0.9051</td>\n",
       "      <td>-1.4792</td>\n",
       "      <td>-0.3310</td>\n",
       "      <td>True</td>\n",
       "    </tr>\n",
       "    <tr>\n",
       "      <th>55</th>\n",
       "      <td>Drama</td>\n",
       "      <td>Thriller</td>\n",
       "      <td>-0.5765</td>\n",
       "      <td>-1.0404</td>\n",
       "      <td>-0.1126</td>\n",
       "      <td>True</td>\n",
       "    </tr>\n",
       "  </tbody>\n",
       "</table>\n",
       "</div>"
      ],
      "text/plain": [
       "         group1           group2  meandiff   lower   upper  reject\n",
       "1        Action        Animation    0.8738  0.1004  1.6473    True\n",
       "4        Action      Documentary    1.4138  0.5768  2.2507    True\n",
       "5        Action            Drama    0.6494  0.2248  1.0740    True\n",
       "14    Adventure      Documentary    1.1405  0.1578  2.1232    True\n",
       "25    Animation           Horror   -1.2779 -2.1327 -0.4232    True\n",
       "26    Animation          Mystery   -1.1458 -2.1737 -0.1179    True\n",
       "28    Animation  Science Fiction   -1.1296 -1.9942 -0.2650    True\n",
       "29    Animation         Thriller   -0.8010 -1.5967 -0.0053    True\n",
       "31       Comedy      Documentary    1.1942  0.3976  1.9908    True\n",
       "32       Comedy            Drama    0.4298  0.0916  0.7680    True\n",
       "33       Comedy           Horror   -0.6236 -1.1792 -0.0681    True\n",
       "38        Crime      Documentary    1.1310  0.1483  2.1136    True\n",
       "46  Documentary           Horror   -1.8179 -2.7305 -0.9052    True\n",
       "47  Documentary          Mystery   -1.6857 -2.7622 -0.6092    True\n",
       "48  Documentary          Romance   -1.0379 -2.0303 -0.0454    True\n",
       "49  Documentary  Science Fiction   -1.6695 -2.5914 -0.7477    True\n",
       "50  Documentary         Thriller   -1.3409 -2.1985 -0.4834    True\n",
       "51        Drama           Horror   -1.0535 -1.6127 -0.4943    True\n",
       "52        Drama          Mystery   -0.9213 -1.7205 -0.1222    True\n",
       "54        Drama  Science Fiction   -0.9051 -1.4792 -0.3310    True\n",
       "55        Drama         Thriller   -0.5765 -1.0404 -0.1126    True"
      ]
     },
     "execution_count": 102,
     "metadata": {},
     "output_type": "execute_result"
    }
   ],
   "source": [
    "tukey[tukey['reject'] == 1]"
   ]
  },
  {
   "cell_type": "code",
   "execution_count": 100,
   "metadata": {},
   "outputs": [
    {
     "data": {
      "text/plain": [
       "False    45\n",
       "True     21\n",
       "Name: reject, dtype: int64"
      ]
     },
     "execution_count": 100,
     "metadata": {},
     "output_type": "execute_result"
    }
   ],
   "source": [
    "tukey.reject.value_counts()"
   ]
  },
  {
   "cell_type": "code",
   "execution_count": 83,
   "metadata": {},
   "outputs": [],
   "source": [
    "import seaborn as sns\n",
    "from matplotlib import pyplot as plt"
   ]
  },
  {
   "cell_type": "code",
   "execution_count": 82,
   "metadata": {},
   "outputs": [
    {
     "data": {
      "text/plain": [
       "<matplotlib.axes._subplots.AxesSubplot at 0x1c247d78d0>"
      ]
     },
     "execution_count": 82,
     "metadata": {},
     "output_type": "execute_result"
    },
    {
     "data": {
      "image/png": "[encoded data removed]",
      "text/plain": [
       "<Figure size 2160x1440 with 1 Axes>"
      ]
     },
     "metadata": {
      "needs_background": "light"
     },
     "output_type": "display_data"
    }
   ],
   "source": [
    "plt.figure(figsize=(30, 20))\n",
    "sns.boxplot(x = genre_merged['genre'], y = genre_merged['vote_average'])\n",
    "# make prettier\n"
   ]
  },
  {
   "cell_type": "code",
   "execution_count": null,
   "metadata": {},
   "outputs": [],
   "source": []
  }
 ],
 "metadata": {
  "kernelspec": {
   "display_name": "Python 3",
   "language": "python",
   "name": "python3"
  },
  "language_info": {
   "codemirror_mode": {
    "name": "ipython",
    "version": 3
   },
   "file_extension": ".py",
   "mimetype": "text/x-python",
   "name": "python",
   "nbconvert_exporter": "python",
   "pygments_lexer": "ipython3",
   "version": "3.7.3"
  }
 },
 "nbformat": 4,
 "nbformat_minor": 2
}
